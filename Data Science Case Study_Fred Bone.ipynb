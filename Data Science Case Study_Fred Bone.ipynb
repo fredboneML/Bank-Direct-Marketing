{
 "cells": [
  {
   "cell_type": "markdown",
   "metadata": {},
   "source": [
    "# Data Science Case Study\n",
    "## Classification of 7 different activities of a roofbolter\n",
    "\n",
    "_Author: Fred Bone_\n",
    "\n",
    "---\n",
    "\n",
    "**Domain Background**\n",
    "A roofbolter is an underground mining machine that reinforces roofs of mine haulageways. It essentially drills holes in the roof and secures a bolt in each hole. The machine has two engines, a Diesel engine for traveling and a hydraulic engine for the drilling/anchoring.\n",
    "\n",
    "**problem statement**\n",
    "The main objective of this project will be to use classification models and find the best one out of the ones used, to classify the 7 different activities from the sensor data provided. \n",
    "\n",
    "**Datasets and Inputs**\n",
    "The data set was provided by Talpasolutions GmbH. In data_case_study.csv we have about a week’s worth of second-based sensor data from an operating roofbolter. For this week the data has been labeled with the activity that the roofbolter is performing:\n",
    "- Machine off, i.e. all engines are turned off\n",
    "- Idle: Machine is on but not working\n",
    "- Traveling: Machine is moving in the mine\n",
    "- Hole Setup: Preparation for drilling/anchoring\n",
    "- Drilling\n",
    "- Anchoring: Putting a bolt in a drilled hole\n",
    "- Transitional Delay: Other hydraulic activities"
   ]
  },
  {
   "cell_type": "code",
   "execution_count": null,
   "metadata": {},
   "outputs": [],
   "source": [
    "# Import libraries\n",
    "\n",
    "# To handle datasets\n",
    "import pandas as pd\n",
    "import numpy as np\n",
    "\n",
    "# For plotting\n",
    "import matplotlib.pyplot as plt\n",
    "import seaborn as sns\n",
    "\n",
    "# For information of missing value occurrence and correlation matrix about the locations of missing values in columns\n",
    "import missingno as msno\n",
    "\n",
    "# To split the datasets\n",
    "from sklearn.model_selection import train_test_split, GridSearchCV\n",
    "from sklearn.pipeline import Pipeline\n",
    "\n",
    "# Feature engineering and -scaling\n",
    "from feature_engine import missing_data_imputers as mdi\n",
    "from sklearn.compose import ColumnTransformer\n",
    "from sklearn.pipeline import Pipeline\n",
    "from sklearn.impute import SimpleImputer\n",
    "from sklearn.preprocessing import MinMaxScaler, OneHotEncoder, LabelEncoder, FunctionTransformer\n",
    "\n",
    "\n",
    "# To build the models\n",
    "from sklearn.linear_model import LogisticRegression\n",
    "from sklearn.ensemble import RandomForestClassifier\n",
    "from keras.utils import np_utils\n",
    "from keras.models import Sequential\n",
    "from keras.layers import Dense\n",
    "from keras.wrappers.scikit_learn import KerasClassifier\n",
    "from keras.utils import to_categorical\n",
    "from numpy import argmax\n",
    "\n",
    "# To evaluate the models\n",
    "from sklearn.metrics import confusion_matrix, classification_report, accuracy_score\n",
    "\n",
    "# To persist the model and the scaler\n",
    "import joblib\n",
    "import pickle\n",
    "\n",
    "# To visualise all the columns in the dataframe\n",
    "pd.pandas.set_option('display.max_columns', None)\n",
    "\n",
    "# To ignore the warnings\n",
    "import warnings\n",
    "warnings.simplefilter(action='ignore')\n",
    "\n",
    "%matplotlib inline"
   ]
  },
  {
   "cell_type": "markdown",
   "metadata": {},
   "source": [
    "##  I - Data Analysis"
   ]
  },
  {
   "cell_type": "code",
   "execution_count": 4,
   "metadata": {},
   "outputs": [
    {
     "name": "stdout",
     "output_type": "stream",
     "text": [
      "(149795, 20)\n"
     ]
    },
    {
     "data": {
      "text/html": [
       "<div>\n",
       "<style scoped>\n",
       "    .dataframe tbody tr th:only-of-type {\n",
       "        vertical-align: middle;\n",
       "    }\n",
       "\n",
       "    .dataframe tbody tr th {\n",
       "        vertical-align: top;\n",
       "    }\n",
       "\n",
       "    .dataframe thead th {\n",
       "        text-align: right;\n",
       "    }\n",
       "</style>\n",
       "<table border=\"1\" class=\"dataframe\">\n",
       "  <thead>\n",
       "    <tr style=\"text-align: right;\">\n",
       "      <th></th>\n",
       "      <th>Unnamed: 0</th>\n",
       "      <th>timestamp</th>\n",
       "      <th>engine_speed</th>\n",
       "      <th>hydraulic_drive_off</th>\n",
       "      <th>drill_boom_in_anchor_position</th>\n",
       "      <th>pvalve_drill_forward</th>\n",
       "      <th>hydraulic_pump</th>\n",
       "      <th>bolt</th>\n",
       "      <th>boom_lift</th>\n",
       "      <th>boom_lower</th>\n",
       "      <th>boom_forward</th>\n",
       "      <th>boom_backward</th>\n",
       "      <th>drill_boom_turn_left</th>\n",
       "      <th>drill_boom_turn_right</th>\n",
       "      <th>drill_boom_turn_forward</th>\n",
       "      <th>drill_boom_turn_backward</th>\n",
       "      <th>beam_right</th>\n",
       "      <th>beam_left</th>\n",
       "      <th>anchor</th>\n",
       "      <th>activity</th>\n",
       "    </tr>\n",
       "  </thead>\n",
       "  <tbody>\n",
       "    <tr>\n",
       "      <th>0</th>\n",
       "      <td>0</td>\n",
       "      <td>1534192356</td>\n",
       "      <td>74.898806</td>\n",
       "      <td>0.0</td>\n",
       "      <td>0.479059</td>\n",
       "      <td>NaN</td>\n",
       "      <td>NaN</td>\n",
       "      <td>NaN</td>\n",
       "      <td>NaN</td>\n",
       "      <td>NaN</td>\n",
       "      <td>NaN</td>\n",
       "      <td>NaN</td>\n",
       "      <td>NaN</td>\n",
       "      <td>NaN</td>\n",
       "      <td>NaN</td>\n",
       "      <td>NaN</td>\n",
       "      <td>NaN</td>\n",
       "      <td>NaN</td>\n",
       "      <td>NaN</td>\n",
       "      <td>Idle</td>\n",
       "    </tr>\n",
       "    <tr>\n",
       "      <th>1</th>\n",
       "      <td>1</td>\n",
       "      <td>1534192357</td>\n",
       "      <td>75.139756</td>\n",
       "      <td>0.0</td>\n",
       "      <td>0.479059</td>\n",
       "      <td>NaN</td>\n",
       "      <td>NaN</td>\n",
       "      <td>NaN</td>\n",
       "      <td>NaN</td>\n",
       "      <td>NaN</td>\n",
       "      <td>NaN</td>\n",
       "      <td>NaN</td>\n",
       "      <td>NaN</td>\n",
       "      <td>NaN</td>\n",
       "      <td>NaN</td>\n",
       "      <td>NaN</td>\n",
       "      <td>NaN</td>\n",
       "      <td>NaN</td>\n",
       "      <td>NaN</td>\n",
       "      <td>Idle</td>\n",
       "    </tr>\n",
       "    <tr>\n",
       "      <th>2</th>\n",
       "      <td>2</td>\n",
       "      <td>1534192358</td>\n",
       "      <td>74.647495</td>\n",
       "      <td>0.0</td>\n",
       "      <td>0.479059</td>\n",
       "      <td>NaN</td>\n",
       "      <td>NaN</td>\n",
       "      <td>NaN</td>\n",
       "      <td>NaN</td>\n",
       "      <td>NaN</td>\n",
       "      <td>NaN</td>\n",
       "      <td>NaN</td>\n",
       "      <td>NaN</td>\n",
       "      <td>NaN</td>\n",
       "      <td>NaN</td>\n",
       "      <td>NaN</td>\n",
       "      <td>NaN</td>\n",
       "      <td>NaN</td>\n",
       "      <td>NaN</td>\n",
       "      <td>Idle</td>\n",
       "    </tr>\n",
       "    <tr>\n",
       "      <th>3</th>\n",
       "      <td>3</td>\n",
       "      <td>1534192359</td>\n",
       "      <td>106.015541</td>\n",
       "      <td>0.0</td>\n",
       "      <td>0.479059</td>\n",
       "      <td>NaN</td>\n",
       "      <td>NaN</td>\n",
       "      <td>NaN</td>\n",
       "      <td>NaN</td>\n",
       "      <td>NaN</td>\n",
       "      <td>NaN</td>\n",
       "      <td>NaN</td>\n",
       "      <td>NaN</td>\n",
       "      <td>NaN</td>\n",
       "      <td>NaN</td>\n",
       "      <td>NaN</td>\n",
       "      <td>NaN</td>\n",
       "      <td>NaN</td>\n",
       "      <td>NaN</td>\n",
       "      <td>Traveling</td>\n",
       "    </tr>\n",
       "    <tr>\n",
       "      <th>4</th>\n",
       "      <td>4</td>\n",
       "      <td>1534192360</td>\n",
       "      <td>95.702048</td>\n",
       "      <td>0.0</td>\n",
       "      <td>0.479059</td>\n",
       "      <td>NaN</td>\n",
       "      <td>NaN</td>\n",
       "      <td>NaN</td>\n",
       "      <td>NaN</td>\n",
       "      <td>NaN</td>\n",
       "      <td>NaN</td>\n",
       "      <td>NaN</td>\n",
       "      <td>NaN</td>\n",
       "      <td>NaN</td>\n",
       "      <td>NaN</td>\n",
       "      <td>NaN</td>\n",
       "      <td>NaN</td>\n",
       "      <td>NaN</td>\n",
       "      <td>NaN</td>\n",
       "      <td>Traveling</td>\n",
       "    </tr>\n",
       "    <tr>\n",
       "      <th>...</th>\n",
       "      <td>...</td>\n",
       "      <td>...</td>\n",
       "      <td>...</td>\n",
       "      <td>...</td>\n",
       "      <td>...</td>\n",
       "      <td>...</td>\n",
       "      <td>...</td>\n",
       "      <td>...</td>\n",
       "      <td>...</td>\n",
       "      <td>...</td>\n",
       "      <td>...</td>\n",
       "      <td>...</td>\n",
       "      <td>...</td>\n",
       "      <td>...</td>\n",
       "      <td>...</td>\n",
       "      <td>...</td>\n",
       "      <td>...</td>\n",
       "      <td>...</td>\n",
       "      <td>...</td>\n",
       "      <td>...</td>\n",
       "    </tr>\n",
       "    <tr>\n",
       "      <th>995</th>\n",
       "      <td>995</td>\n",
       "      <td>1534193354</td>\n",
       "      <td>0.000000</td>\n",
       "      <td>0.0</td>\n",
       "      <td>0.000000</td>\n",
       "      <td>616.661991</td>\n",
       "      <td>NaN</td>\n",
       "      <td>0.0</td>\n",
       "      <td>0.0</td>\n",
       "      <td>0.0</td>\n",
       "      <td>0.0</td>\n",
       "      <td>2.614998</td>\n",
       "      <td>0.0</td>\n",
       "      <td>0.0</td>\n",
       "      <td>0.0</td>\n",
       "      <td>0.0</td>\n",
       "      <td>0.0</td>\n",
       "      <td>0.0</td>\n",
       "      <td>0.0</td>\n",
       "      <td>Machine Off</td>\n",
       "    </tr>\n",
       "    <tr>\n",
       "      <th>996</th>\n",
       "      <td>996</td>\n",
       "      <td>1534193355</td>\n",
       "      <td>0.000000</td>\n",
       "      <td>0.0</td>\n",
       "      <td>0.000000</td>\n",
       "      <td>616.661991</td>\n",
       "      <td>NaN</td>\n",
       "      <td>0.0</td>\n",
       "      <td>0.0</td>\n",
       "      <td>0.0</td>\n",
       "      <td>0.0</td>\n",
       "      <td>2.614998</td>\n",
       "      <td>0.0</td>\n",
       "      <td>0.0</td>\n",
       "      <td>0.0</td>\n",
       "      <td>0.0</td>\n",
       "      <td>0.0</td>\n",
       "      <td>0.0</td>\n",
       "      <td>0.0</td>\n",
       "      <td>Machine Off</td>\n",
       "    </tr>\n",
       "    <tr>\n",
       "      <th>997</th>\n",
       "      <td>997</td>\n",
       "      <td>1534193356</td>\n",
       "      <td>0.000000</td>\n",
       "      <td>0.0</td>\n",
       "      <td>0.000000</td>\n",
       "      <td>616.661991</td>\n",
       "      <td>NaN</td>\n",
       "      <td>0.0</td>\n",
       "      <td>0.0</td>\n",
       "      <td>0.0</td>\n",
       "      <td>0.0</td>\n",
       "      <td>2.614998</td>\n",
       "      <td>0.0</td>\n",
       "      <td>0.0</td>\n",
       "      <td>0.0</td>\n",
       "      <td>0.0</td>\n",
       "      <td>0.0</td>\n",
       "      <td>0.0</td>\n",
       "      <td>0.0</td>\n",
       "      <td>Machine Off</td>\n",
       "    </tr>\n",
       "    <tr>\n",
       "      <th>998</th>\n",
       "      <td>998</td>\n",
       "      <td>1534193357</td>\n",
       "      <td>0.000000</td>\n",
       "      <td>0.0</td>\n",
       "      <td>0.000000</td>\n",
       "      <td>616.661991</td>\n",
       "      <td>NaN</td>\n",
       "      <td>0.0</td>\n",
       "      <td>0.0</td>\n",
       "      <td>0.0</td>\n",
       "      <td>0.0</td>\n",
       "      <td>2.614998</td>\n",
       "      <td>0.0</td>\n",
       "      <td>0.0</td>\n",
       "      <td>0.0</td>\n",
       "      <td>0.0</td>\n",
       "      <td>0.0</td>\n",
       "      <td>0.0</td>\n",
       "      <td>0.0</td>\n",
       "      <td>Machine Off</td>\n",
       "    </tr>\n",
       "    <tr>\n",
       "      <th>999</th>\n",
       "      <td>999</td>\n",
       "      <td>1534193358</td>\n",
       "      <td>0.000000</td>\n",
       "      <td>0.0</td>\n",
       "      <td>0.000000</td>\n",
       "      <td>616.661991</td>\n",
       "      <td>NaN</td>\n",
       "      <td>0.0</td>\n",
       "      <td>0.0</td>\n",
       "      <td>0.0</td>\n",
       "      <td>0.0</td>\n",
       "      <td>2.614998</td>\n",
       "      <td>0.0</td>\n",
       "      <td>0.0</td>\n",
       "      <td>0.0</td>\n",
       "      <td>0.0</td>\n",
       "      <td>0.0</td>\n",
       "      <td>0.0</td>\n",
       "      <td>0.0</td>\n",
       "      <td>Machine Off</td>\n",
       "    </tr>\n",
       "  </tbody>\n",
       "</table>\n",
       "<p>1000 rows × 20 columns</p>\n",
       "</div>"
      ],
      "text/plain": [
       "     Unnamed: 0   timestamp  engine_speed  hydraulic_drive_off  \\\n",
       "0             0  1534192356     74.898806                  0.0   \n",
       "1             1  1534192357     75.139756                  0.0   \n",
       "2             2  1534192358     74.647495                  0.0   \n",
       "3             3  1534192359    106.015541                  0.0   \n",
       "4             4  1534192360     95.702048                  0.0   \n",
       "..          ...         ...           ...                  ...   \n",
       "995         995  1534193354      0.000000                  0.0   \n",
       "996         996  1534193355      0.000000                  0.0   \n",
       "997         997  1534193356      0.000000                  0.0   \n",
       "998         998  1534193357      0.000000                  0.0   \n",
       "999         999  1534193358      0.000000                  0.0   \n",
       "\n",
       "     drill_boom_in_anchor_position  pvalve_drill_forward  hydraulic_pump  \\\n",
       "0                         0.479059                   NaN             NaN   \n",
       "1                         0.479059                   NaN             NaN   \n",
       "2                         0.479059                   NaN             NaN   \n",
       "3                         0.479059                   NaN             NaN   \n",
       "4                         0.479059                   NaN             NaN   \n",
       "..                             ...                   ...             ...   \n",
       "995                       0.000000            616.661991             NaN   \n",
       "996                       0.000000            616.661991             NaN   \n",
       "997                       0.000000            616.661991             NaN   \n",
       "998                       0.000000            616.661991             NaN   \n",
       "999                       0.000000            616.661991             NaN   \n",
       "\n",
       "     bolt  boom_lift  boom_lower  boom_forward  boom_backward  \\\n",
       "0     NaN        NaN         NaN           NaN            NaN   \n",
       "1     NaN        NaN         NaN           NaN            NaN   \n",
       "2     NaN        NaN         NaN           NaN            NaN   \n",
       "3     NaN        NaN         NaN           NaN            NaN   \n",
       "4     NaN        NaN         NaN           NaN            NaN   \n",
       "..    ...        ...         ...           ...            ...   \n",
       "995   0.0        0.0         0.0           0.0       2.614998   \n",
       "996   0.0        0.0         0.0           0.0       2.614998   \n",
       "997   0.0        0.0         0.0           0.0       2.614998   \n",
       "998   0.0        0.0         0.0           0.0       2.614998   \n",
       "999   0.0        0.0         0.0           0.0       2.614998   \n",
       "\n",
       "     drill_boom_turn_left  drill_boom_turn_right  drill_boom_turn_forward  \\\n",
       "0                     NaN                    NaN                      NaN   \n",
       "1                     NaN                    NaN                      NaN   \n",
       "2                     NaN                    NaN                      NaN   \n",
       "3                     NaN                    NaN                      NaN   \n",
       "4                     NaN                    NaN                      NaN   \n",
       "..                    ...                    ...                      ...   \n",
       "995                   0.0                    0.0                      0.0   \n",
       "996                   0.0                    0.0                      0.0   \n",
       "997                   0.0                    0.0                      0.0   \n",
       "998                   0.0                    0.0                      0.0   \n",
       "999                   0.0                    0.0                      0.0   \n",
       "\n",
       "     drill_boom_turn_backward  beam_right  beam_left  anchor     activity  \n",
       "0                         NaN         NaN        NaN     NaN         Idle  \n",
       "1                         NaN         NaN        NaN     NaN         Idle  \n",
       "2                         NaN         NaN        NaN     NaN         Idle  \n",
       "3                         NaN         NaN        NaN     NaN    Traveling  \n",
       "4                         NaN         NaN        NaN     NaN    Traveling  \n",
       "..                        ...         ...        ...     ...          ...  \n",
       "995                       0.0         0.0        0.0     0.0  Machine Off  \n",
       "996                       0.0         0.0        0.0     0.0  Machine Off  \n",
       "997                       0.0         0.0        0.0     0.0  Machine Off  \n",
       "998                       0.0         0.0        0.0     0.0  Machine Off  \n",
       "999                       0.0         0.0        0.0     0.0  Machine Off  \n",
       "\n",
       "[1000 rows x 20 columns]"
      ]
     },
     "execution_count": 4,
     "metadata": {},
     "output_type": "execute_result"
    }
   ],
   "source": [
    "# load dataset\n",
    "data = pd.read_csv('data_case_study.csv')\n",
    "\n",
    "# Rows and columns of the data\n",
    "print(data.shape)\n",
    "\n",
    "# Visualise the dataset\n",
    "data.head(1000)"
   ]
  },
  {
   "cell_type": "code",
   "execution_count": null,
   "metadata": {},
   "outputs": [],
   "source": []
  },
  {
   "cell_type": "markdown",
   "metadata": {},
   "source": [
    "The data contains 149795 rows (observations) and 20 columns (variables). The last column (activity) is the one that we will try to predict. The first column seems to have the index of each observation and thus won't be take into account for the analysis. We will analyse the dataset to identify:\n",
    "\n",
    "1. Identify numerical / categorical variables\n",
    "2. Missing values\n",
    "3. Is the data set balanced or unbalanced?\n",
    "4. Outliers\n",
    "5. Potential variables that could be dropped by checking the correlation matrix"
   ]
  },
  {
   "cell_type": "markdown",
   "metadata": {},
   "source": [
    "To check if the first column is simply an index column, we will calculate its first discrete difference (first_diff[i] = first_diff[i+1] - first_diff[i], i = 1, ...149795) and see if all values are equals to 1 and the length of this vector is equal to 149794."
   ]
  },
  {
   "cell_type": "code",
   "execution_count": 5,
   "metadata": {},
   "outputs": [
    {
     "data": {
      "text/plain": [
       "True"
      ]
     },
     "execution_count": 5,
     "metadata": {},
     "output_type": "execute_result"
    }
   ],
   "source": [
    "first_diff = np.diff(data[data.columns[0]])\n",
    "first_diff\n",
    "np.all(first_diff==1) and len(first_diff) == 149794"
   ]
  },
  {
   "cell_type": "code",
   "execution_count": 6,
   "metadata": {},
   "outputs": [
    {
     "data": {
      "text/plain": [
       "Index(['timestamp', 'engine_speed', 'hydraulic_drive_off',\n",
       "       'drill_boom_in_anchor_position', 'pvalve_drill_forward',\n",
       "       'hydraulic_pump', 'bolt', 'boom_lift', 'boom_lower', 'boom_forward',\n",
       "       'boom_backward', 'drill_boom_turn_left', 'drill_boom_turn_right',\n",
       "       'drill_boom_turn_forward', 'drill_boom_turn_backward', 'beam_right',\n",
       "       'beam_left', 'anchor', 'activity'],\n",
       "      dtype='object')"
      ]
     },
     "execution_count": 6,
     "metadata": {},
     "output_type": "execute_result"
    }
   ],
   "source": [
    "# Delete the first column of the data\n",
    "data = data.drop([data.columns[0]], axis=1)\n",
    "# Checking the columns\n",
    "data.columns"
   ]
  },
  {
   "cell_type": "markdown",
   "metadata": {},
   "source": [
    "### 1. Identify numerical / categorical variables"
   ]
  },
  {
   "cell_type": "code",
   "execution_count": 58,
   "metadata": {},
   "outputs": [
    {
     "name": "stdout",
     "output_type": "stream",
     "text": [
      "Number of numerical variables:  18\n",
      "['engine_speed', 'hydraulic_drive_off', 'drill_boom_in_anchor_position', 'pvalve_drill_forward', 'hydraulic_pump', 'bolt', 'boom_lift', 'boom_lower', 'boom_forward', 'boom_backward', 'drill_boom_turn_left', 'drill_boom_turn_right', 'drill_boom_turn_forward', 'drill_boom_turn_backward', 'beam_right', 'beam_left', 'anchor', 'le_activity']\n"
     ]
    }
   ],
   "source": [
    "# make list of numerical variables\n",
    "num_vars = [var for var in data.columns if data[var].dtypes != 'O']\n",
    "\n",
    "print('Number of numerical variables: ', len(num_vars))\n",
    "print(num_vars)"
   ]
  },
  {
   "cell_type": "code",
   "execution_count": 59,
   "metadata": {},
   "outputs": [
    {
     "name": "stdout",
     "output_type": "stream",
     "text": [
      "Number of categorical variables:  1\n"
     ]
    }
   ],
   "source": [
    "# Capture categorical variables in a list\n",
    "cat_vars = [var for var in data.columns[-1:] if data[var].dtypes == 'O']\n",
    "\n",
    "print('Number of categorical variables: ', len(cat_vars))"
   ]
  },
  {
   "cell_type": "code",
   "execution_count": 63,
   "metadata": {},
   "outputs": [
    {
     "data": {
      "text/plain": [
       "['engine_speed',\n",
       " 'hydraulic_drive_off',\n",
       " 'drill_boom_in_anchor_position',\n",
       " 'pvalve_drill_forward',\n",
       " 'hydraulic_pump',\n",
       " 'bolt',\n",
       " 'boom_lift',\n",
       " 'boom_lower',\n",
       " 'boom_forward',\n",
       " 'boom_backward',\n",
       " 'drill_boom_turn_left',\n",
       " 'drill_boom_turn_right',\n",
       " 'drill_boom_turn_forward',\n",
       " 'drill_boom_turn_backward',\n",
       " 'beam_right',\n",
       " 'beam_left',\n",
       " 'anchor',\n",
       " 'activity']"
      ]
     },
     "execution_count": 63,
     "metadata": {},
     "output_type": "execute_result"
    }
   ],
   "source": [
    "list(data.columns[:-1])"
   ]
  },
  {
   "cell_type": "code",
   "execution_count": 64,
   "metadata": {},
   "outputs": [
    {
     "data": {
      "text/plain": [
       "Index(['engine_speed', 'hydraulic_drive_off', 'drill_boom_in_anchor_position',\n",
       "       'pvalve_drill_forward', 'hydraulic_pump', 'bolt', 'boom_lift',\n",
       "       'boom_lower', 'boom_forward', 'boom_backward', 'drill_boom_turn_left',\n",
       "       'drill_boom_turn_right', 'drill_boom_turn_forward',\n",
       "       'drill_boom_turn_backward', 'beam_right', 'beam_left', 'anchor',\n",
       "       'activity', 'le_activity'],\n",
       "      dtype='object')"
      ]
     },
     "execution_count": 64,
     "metadata": {},
     "output_type": "execute_result"
    }
   ],
   "source": [
    "data.columns"
   ]
  },
  {
   "cell_type": "markdown",
   "metadata": {},
   "source": [
    "### 2. Missing values"
   ]
  },
  {
   "cell_type": "code",
   "execution_count": 7,
   "metadata": {},
   "outputs": [
    {
     "name": "stdout",
     "output_type": "stream",
     "text": [
      "Number of variables with missing values: 14\n",
      "Descending percentage of missing values:\n"
     ]
    },
    {
     "data": {
      "text/plain": [
       "hydraulic_pump              0.943583\n",
       "pvalve_drill_forward        0.003305\n",
       "anchor                      0.003164\n",
       "beam_left                   0.003164\n",
       "beam_right                  0.003164\n",
       "drill_boom_turn_backward    0.003164\n",
       "drill_boom_turn_forward     0.003164\n",
       "drill_boom_turn_right       0.003164\n",
       "drill_boom_turn_left        0.003164\n",
       "boom_backward               0.003164\n",
       "boom_forward                0.003164\n",
       "boom_lower                  0.003164\n",
       "boom_lift                   0.003164\n",
       "bolt                        0.002977\n",
       "dtype: float64"
      ]
     },
     "execution_count": 7,
     "metadata": {},
     "output_type": "execute_result"
    }
   ],
   "source": [
    "# List of the variables that contain missing values\n",
    "vars_with_na = [var for var in data.columns if data[var].isnull().sum() > 0]\n",
    "\n",
    "# Descending percentage of missing values\n",
    "print(\"Number of variables with missing values: {0}\".format(len(vars_with_na)))\n",
    "print(\"Descending percentage of missing values:\")\n",
    "data[vars_with_na].isnull().mean().sort_values(ascending=False)"
   ]
  },
  {
   "cell_type": "markdown",
   "metadata": {},
   "source": [
    "Almost 94% of the variable hydraulic_pump is missing. The percentage of missingness of the remainings variables is low and is almost the same. Does that mean that the observations of these variables are missing in the same rows? Let's check it with some diagnostic plots."
   ]
  },
  {
   "cell_type": "code",
   "execution_count": 9,
   "metadata": {},
   "outputs": [
    {
     "data": {
      "text/plain": [
       "<matplotlib.axes._subplots.AxesSubplot at 0x10f2d43ce48>"
      ]
     },
     "execution_count": 9,
     "metadata": {},
     "output_type": "execute_result"
    },
    {
     "data": {
      "image/png": "[encoded data removed]",
      "text/plain": [
       "<Figure size 1800x720 with 2 Axes>"
      ]
     },
     "metadata": {
      "needs_background": "light"
     },
     "output_type": "display_data"
    }
   ],
   "source": [
    "msno.matrix(data[vars_with_na])"
   ]
  },
  {
   "cell_type": "markdown",
   "metadata": {},
   "source": [
    "At first glance, the pattern of missingness of these variables seems to be the same. Let's dive a little deeper by visualizing the correlation matrix about the locations of missing values in these columns."
   ]
  },
  {
   "cell_type": "code",
   "execution_count": 10,
   "metadata": {},
   "outputs": [
    {
     "data": {
      "text/plain": [
       "<matplotlib.axes._subplots.AxesSubplot at 0x10f302d1240>"
      ]
     },
     "execution_count": 10,
     "metadata": {},
     "output_type": "execute_result"
    },
    {
     "data": {
      "image/png": "[encoded data removed]",
      "text/plain": [
       "<Figure size 1440x864 with 2 Axes>"
      ]
     },
     "metadata": {
      "needs_background": "light"
     },
     "output_type": "display_data"
    }
   ],
   "source": [
    "msno.heatmap(data[vars_with_na])"
   ]
  },
  {
   "cell_type": "code",
   "execution_count": 55,
   "metadata": {},
   "outputs": [
    {
     "name": "stdout",
     "output_type": "stream",
     "text": [
      "['bolt', 'drill_boom_turn_right', 'drill_boom_turn_forward', 'drill_boom_turn_backward', 'boom_forward', 'beam_left', 'boom_backward', 'beam_right', 'anchor', 'boom_lower', 'drill_boom_turn_left', 'pvalve_drill_forward', 'hydraulic_pump', 'boom_lift']\n",
      "[]\n"
     ]
    }
   ],
   "source": [
    "num_vars_miss = list(set(num_vars) & set(vars_with_na))\n",
    "print(num_vars_miss)\n",
    "cat_vars_miss = [e for i,e in enumerate(vars_with_na) if e not in num_vars_miss]\n",
    "print(cat_vars_miss)"
   ]
  },
  {
   "cell_type": "markdown",
   "metadata": {},
   "source": [
    "All the variables having missing values seem to be numerical variables. Let's check it."
   ]
  },
  {
   "cell_type": "code",
   "execution_count": null,
   "metadata": {},
   "outputs": [],
   "source": [
    "sorted(num_vars_miss) == sorted(vars_with_na) "
   ]
  },
  {
   "cell_type": "markdown",
   "metadata": {},
   "source": [
    "So they are all numerical variables. Thus we will only have to find a strategy to impute numerical variables."
   ]
  },
  {
   "cell_type": "markdown",
   "metadata": {},
   "source": [
    "As we can see from the above correlation plot, except for the variable hydraulic_pump, the correlation about the locations of missing values in these variables is 1 or roughly equals to 1 meaning that they are missing in the same rows. Thus on the one hand because of their lower percentage of missingness and on the other hand because of the fact that there's a higher correlation in the way their observations are missing, except for the variable hydraulic_pump, we won't add a missing indicator column. \n",
    "Our strategy to tackle the missing values will be the following:\n",
    "    1. add a new binary column (hydraulic_pump_na) to the data that indicates where observations are missing in the column    hydraulic_pump\n",
    "    2. Find the best method (mean vs median) to impute the missing values by evaluating the performance of a baseline model using both values.\n",
    "    3.Replace the missing values in each column (hydraulic_pump included) with the corresponding best parameter found in the second step.\n",
    "    \n",
    "Remark: We will add the column that flags the missing values of hydraulic_pump as we assume that due to its high percentage of missingness (94%), it is not due to an accident (could be almost the same for any other data dump of the sensor) and thus could have a predictive value. Otherwise, we would have used only the two last steps."
   ]
  },
  {
   "cell_type": "markdown",
   "metadata": {},
   "source": [
    "### 3. Is the data set balanced or unbalanced?"
   ]
  },
  {
   "cell_type": "code",
   "execution_count": 13,
   "metadata": {},
   "outputs": [
    {
     "data": {
      "text/plain": [
       "Machine Off           0.374131\n",
       "Transitional Delay    0.162669\n",
       "Drilling              0.145459\n",
       "Traveling             0.141794\n",
       "Idle                  0.084829\n",
       "Hole Setup            0.070576\n",
       "Anchoring             0.020541\n",
       "Name: activity, dtype: float64"
      ]
     },
     "execution_count": 13,
     "metadata": {},
     "output_type": "execute_result"
    }
   ],
   "source": [
    "data['activity'].value_counts() / len(data['activity'])"
   ]
  },
  {
   "cell_type": "code",
   "execution_count": 14,
   "metadata": {},
   "outputs": [
    {
     "data": {
      "text/plain": [
       "<Figure size 576x432 with 0 Axes>"
      ]
     },
     "metadata": {},
     "output_type": "display_data"
    },
    {
     "data": {
      "image/png": "[encoded data removed]",
      "text/plain": [
       "<Figure size 864x864 with 1 Axes>"
      ]
     },
     "metadata": {
      "needs_background": "light"
     },
     "output_type": "display_data"
    }
   ],
   "source": [
    "fig = plt.figure(figsize=(8,6))\n",
    "data.groupby('activity').count().plot.bar(ylim=0, figsize=(12,12))\n",
    "plt.show()"
   ]
  },
  {
   "cell_type": "markdown",
   "metadata": {},
   "source": [
    "The data set is unbalanced with the class Machine Off having the highest proportion of records. Within each class, the repartition of all features seems to be the same. \n",
    "As the least populated class (Anchoring) has almost 3000 observations, we won't do any resampling technique (oversampling, undersampling, SMOVE, etc) and will instead use metrics that are appropriate to evaluate models on unbalanced data sets (Weighted F1 score, Precision, Recall).\n",
    "Additionally, while splitting the data in the train/test set, we will make sure that the train set reflects the same proportion of data we had in each class (so-called stratified sample)."
   ]
  },
  {
   "cell_type": "code",
   "execution_count": 41,
   "metadata": {},
   "outputs": [
    {
     "data": {
      "text/plain": [
       "Machine Off           317\n",
       "Traveling             100\n",
       "Idle                   29\n",
       "Transitional Delay     28\n",
       "Name: activity, dtype: int64"
      ]
     },
     "execution_count": 41,
     "metadata": {},
     "output_type": "execute_result"
    }
   ],
   "source": [
    "data[data['boom_lift'].isnull()]['activity'].value_counts()"
   ]
  },
  {
   "cell_type": "code",
   "execution_count": 42,
   "metadata": {},
   "outputs": [
    {
     "data": {
      "text/plain": [
       "Machine Off           317\n",
       "Traveling             100\n",
       "Transitional Delay     36\n",
       "Idle                   29\n",
       "Hole Setup             13\n",
       "Name: activity, dtype: int64"
      ]
     },
     "execution_count": 42,
     "metadata": {},
     "output_type": "execute_result"
    }
   ],
   "source": [
    "data[data['pvalve_drill_forward'].isnull()]['activity'].value_counts()"
   ]
  },
  {
   "cell_type": "code",
   "execution_count": 43,
   "metadata": {},
   "outputs": [
    {
     "data": {
      "text/plain": [
       "Machine Off    317\n",
       "Traveling      100\n",
       "Idle            29\n",
       "Name: activity, dtype: int64"
      ]
     },
     "execution_count": 43,
     "metadata": {},
     "output_type": "execute_result"
    }
   ],
   "source": [
    "data[data['bolt'].isnull()]['activity'].value_counts()"
   ]
  },
  {
   "cell_type": "code",
   "execution_count": 44,
   "metadata": {},
   "outputs": [
    {
     "data": {
      "text/plain": [
       "Machine Off           56036\n",
       "Transitional Delay    21925\n",
       "Traveling             21198\n",
       "Drilling              17265\n",
       "Idle                  12697\n",
       "Hole Setup            10351\n",
       "Anchoring              1872\n",
       "Name: activity, dtype: int64"
      ]
     },
     "execution_count": 44,
     "metadata": {},
     "output_type": "execute_result"
    }
   ],
   "source": [
    "data[data['hydraulic_pump'].isnull()]['activity'].value_counts()"
   ]
  },
  {
   "cell_type": "code",
   "execution_count": null,
   "metadata": {},
   "outputs": [],
   "source": []
  },
  {
   "cell_type": "code",
   "execution_count": 19,
   "metadata": {},
   "outputs": [
    {
     "data": {
      "text/plain": [
       "activity\n",
       "Anchoring                0.000000\n",
       "Drilling              7513.756101\n",
       "Hole Setup            6625.744457\n",
       "Idle                     0.000000\n",
       "Machine Off              0.000000\n",
       "Transitional Delay    2165.053566\n",
       "Traveling                0.000000\n",
       "Name: hydraulic_pump, dtype: float64"
      ]
     },
     "execution_count": 19,
     "metadata": {},
     "output_type": "execute_result"
    }
   ],
   "source": [
    "df = data.copy()\n",
    "df= df[df['hydraulic_pump'].notnull()][['hydraulic_pump', 'activity']]\n",
    "df.groupby('activity')['hydraulic_pump'].mean()\n"
   ]
  },
  {
   "cell_type": "code",
   "execution_count": 15,
   "metadata": {},
   "outputs": [
    {
     "data": {
      "text/plain": [
       "<matplotlib.axes._subplots.AxesSubplot at 0x10f2c716198>"
      ]
     },
     "execution_count": 15,
     "metadata": {},
     "output_type": "execute_result"
    },
    {
     "data": {
      "image/png": "[encoded data removed]",
      "text/plain": [
       "<Figure size 864x864 with 1 Axes>"
      ]
     },
     "metadata": {
      "needs_background": "light"
     },
     "output_type": "display_data"
    }
   ],
   "source": [
    "data[['hydraulic_pump', 'activity']].boxplot(by='activity', figsize=(12,12))"
   ]
  },
  {
   "cell_type": "code",
   "execution_count": 16,
   "metadata": {},
   "outputs": [
    {
     "data": {
      "text/plain": [
       "<matplotlib.axes._subplots.AxesSubplot at 0x10f2d03f2e8>"
      ]
     },
     "execution_count": 16,
     "metadata": {},
     "output_type": "execute_result"
    },
    {
     "data": {
      "image/png": "[encoded data removed]",
      "text/plain": [
       "<Figure size 864x864 with 1 Axes>"
      ]
     },
     "metadata": {
      "needs_background": "light"
     },
     "output_type": "display_data"
    }
   ],
   "source": [
    "data[['boom_lift', 'activity']].boxplot(by='activity', figsize=(12,12))"
   ]
  },
  {
   "cell_type": "code",
   "execution_count": 17,
   "metadata": {},
   "outputs": [
    {
     "name": "stdout",
     "output_type": "stream",
     "text": [
      "Number of numerical variables:  18\n"
     ]
    }
   ],
   "source": [
    "# make list of numerical variables\n",
    "num_vars = [var for var in data.columns if data[var].dtypes != 'O']\n",
    "\n",
    "print('Number of numerical variables: ', len(num_vars))"
   ]
  },
  {
   "cell_type": "code",
   "execution_count": 18,
   "metadata": {},
   "outputs": [
    {
     "name": "stdout",
     "output_type": "stream",
     "text": [
      "['bolt', 'drill_boom_turn_right', 'drill_boom_turn_forward', 'drill_boom_turn_backward', 'boom_forward', 'beam_left', 'boom_backward', 'beam_right', 'anchor', 'boom_lower', 'drill_boom_turn_left', 'pvalve_drill_forward', 'hydraulic_pump', 'boom_lift']\n",
      "[]\n"
     ]
    }
   ],
   "source": [
    "num_vars_miss = list(set(num_vars) & set(vars_with_na))\n",
    "print(num_vars_miss)\n",
    "cat_vars_miss = [e for i,e in enumerate(vars_with_na) if e not in num_vars_miss]\n",
    "print(cat_vars_miss)"
   ]
  },
  {
   "cell_type": "code",
   "execution_count": 19,
   "metadata": {},
   "outputs": [
    {
     "data": {
      "text/plain": [
       "True"
      ]
     },
     "execution_count": 19,
     "metadata": {},
     "output_type": "execute_result"
    }
   ],
   "source": [
    "sorted(num_vars_miss) == sorted(vars_with_na) "
   ]
  },
  {
   "cell_type": "code",
   "execution_count": null,
   "metadata": {},
   "outputs": [],
   "source": []
  },
  {
   "cell_type": "code",
   "execution_count": null,
   "metadata": {},
   "outputs": [],
   "source": [
    "def analyse_na_value(data, var):\n",
    "\n",
    "    data = data.copy()\n",
    "\n",
    "    # let's make a variable that indicates 1 if the observation was missing or zero otherwise\n",
    "    data[var] = np.where(data[var].isnull(), 1, 0)\n",
    "\n",
    "    # let's compare the median SalePrice in the observations where data is missing\n",
    "    # vs the observations where a value is available\n",
    "\n",
    "    data.groupby(var)['SalePrice'].median().plot.bar()\n",
    "\n",
    "    plt.title(var)\n",
    "    plt.show()\n",
    "\n",
    "\n",
    "# let's run the function on each variable with missing data\n",
    "for var in vars_with_na:\n",
    "    analyse_na_value(data, var)"
   ]
  },
  {
   "cell_type": "code",
   "execution_count": null,
   "metadata": {},
   "outputs": [],
   "source": []
  },
  {
   "cell_type": "code",
   "execution_count": 20,
   "metadata": {},
   "outputs": [
    {
     "name": "stdout",
     "output_type": "stream",
     "text": [
      "Number of categorical variables:  0\n"
     ]
    }
   ],
   "source": [
    "# Capture categorical variables in a list\n",
    "cat_vars = [var for var in data.columns[:-1] if data[var].dtypes == 'O']\n",
    "\n",
    "print('Number of categorical variables: ', len(cat_vars))"
   ]
  },
  {
   "cell_type": "markdown",
   "metadata": {},
   "source": [
    "The only categorical variable is the variable to be predicted."
   ]
  },
  {
   "cell_type": "code",
   "execution_count": 21,
   "metadata": {},
   "outputs": [
    {
     "data": {
      "text/plain": [
       "<matplotlib.axes._subplots.AxesSubplot at 0x10f2c8922e8>"
      ]
     },
     "execution_count": 21,
     "metadata": {},
     "output_type": "execute_result"
    },
    {
     "data": {
      "image/png": "[encoded data removed]",
      "text/plain": [
       "<Figure size 1440x720 with 1 Axes>"
      ]
     },
     "metadata": {
      "needs_background": "light"
     },
     "output_type": "display_data"
    }
   ],
   "source": [
    "# outliers\n",
    "\n",
    "data[num_vars].boxplot(figsize=(20,10))"
   ]
  },
  {
   "cell_type": "markdown",
   "metadata": {},
   "source": [
    "### 5. Potential variables that could be dropped by checking the correlation matrix"
   ]
  },
  {
   "cell_type": "code",
   "execution_count": 22,
   "metadata": {},
   "outputs": [
    {
     "data": {
      "text/plain": [
       "<matplotlib.axes._subplots.AxesSubplot at 0x10f2cdb45f8>"
      ]
     },
     "execution_count": 22,
     "metadata": {},
     "output_type": "execute_result"
    },
    {
     "data": {
      "image/png": "[encoded data removed]",
      "text/plain": [
       "<Figure size 864x864 with 2 Axes>"
      ]
     },
     "metadata": {
      "needs_background": "light"
     },
     "output_type": "display_data"
    }
   ],
   "source": [
    "f, ax = plt.subplots(figsize=(12, 12))\n",
    "corr = data[num_vars].corr()\n",
    "sns.heatmap(corr, mask=np.zeros_like(corr, dtype=np.bool), cmap=sns.diverging_palette(220, 10, as_cmap=True),\n",
    "            square=True, ax=ax)"
   ]
  },
  {
   "cell_type": "code",
   "execution_count": 23,
   "metadata": {},
   "outputs": [
    {
     "data": {
      "text/plain": [
       "['engine_speed',\n",
       " 'hydraulic_drive_off',\n",
       " 'drill_boom_in_anchor_position',\n",
       " 'pvalve_drill_forward',\n",
       " 'hydraulic_pump',\n",
       " 'bolt',\n",
       " 'boom_lift',\n",
       " 'boom_lower',\n",
       " 'boom_forward',\n",
       " 'boom_backward',\n",
       " 'drill_boom_turn_left',\n",
       " 'drill_boom_turn_right',\n",
       " 'drill_boom_turn_forward',\n",
       " 'drill_boom_turn_backward',\n",
       " 'beam_right',\n",
       " 'beam_left',\n",
       " 'anchor']"
      ]
     },
     "execution_count": 23,
     "metadata": {},
     "output_type": "execute_result"
    }
   ],
   "source": [
    "data = data.drop(['timestamp'], axis=1)\n",
    "num_vars = [e for i,e in enumerate(num_vars) if e != 'timestamp']\n",
    "num_vars"
   ]
  },
  {
   "cell_type": "code",
   "execution_count": 24,
   "metadata": {},
   "outputs": [
    {
     "data": {
      "text/plain": [
       "['Anchoring',\n",
       " 'Drilling',\n",
       " 'Hole Setup',\n",
       " 'Idle',\n",
       " 'Machine Off',\n",
       " 'Transitional Delay',\n",
       " 'Traveling']"
      ]
     },
     "execution_count": 24,
     "metadata": {},
     "output_type": "execute_result"
    }
   ],
   "source": [
    "# Label encode the target variable\n",
    "le = LabelEncoder()\n",
    "data['le_activity'] = le.fit_transform(data['activity'])\n",
    "\n",
    "# Persist label encoder\n",
    "np.save('classes.npy', le.classes_)\n",
    "# le = LabelEncoder()\n",
    "# le.classes_ = numpy.load('classes.npy')\n",
    "\n",
    "list(le.classes_)"
   ]
  },
  {
   "cell_type": "code",
   "execution_count": 29,
   "metadata": {},
   "outputs": [
    {
     "data": {
      "text/plain": [
       "array(['Hole Setup', 'Hole Setup', 'Drilling'], dtype=object)"
      ]
     },
     "execution_count": 29,
     "metadata": {},
     "output_type": "execute_result"
    }
   ],
   "source": [
    "le.inverse_transform([2, 2, 1])"
   ]
  },
  {
   "cell_type": "code",
   "execution_count": 25,
   "metadata": {},
   "outputs": [
    {
     "data": {
      "text/plain": [
       "Index(['engine_speed', 'hydraulic_drive_off', 'drill_boom_in_anchor_position',\n",
       "       'pvalve_drill_forward', 'hydraulic_pump', 'bolt', 'boom_lift',\n",
       "       'boom_lower', 'boom_forward', 'boom_backward', 'drill_boom_turn_left',\n",
       "       'drill_boom_turn_right', 'drill_boom_turn_forward',\n",
       "       'drill_boom_turn_backward', 'beam_right', 'beam_left', 'anchor',\n",
       "       'activity', 'le_activity'],\n",
       "      dtype='object')"
      ]
     },
     "execution_count": 25,
     "metadata": {},
     "output_type": "execute_result"
    }
   ],
   "source": [
    "data.columns"
   ]
  },
  {
   "cell_type": "code",
   "execution_count": 26,
   "metadata": {},
   "outputs": [
    {
     "data": {
      "text/plain": [
       "19"
      ]
     },
     "execution_count": 26,
     "metadata": {},
     "output_type": "execute_result"
    }
   ],
   "source": [
    "len(data.columns)"
   ]
  },
  {
   "cell_type": "code",
   "execution_count": 27,
   "metadata": {},
   "outputs": [
    {
     "data": {
      "text/plain": [
       "((104856, 17), (44939, 17))"
      ]
     },
     "execution_count": 27,
     "metadata": {},
     "output_type": "execute_result"
    }
   ],
   "source": [
    "# Separate into train and test set\n",
    "\n",
    "X_train, X_test, y_train, y_test = train_test_split(\n",
    "    data.drop(['activity', 'le_activity'], axis=1),  # just the features\n",
    "    data['le_activity'],  # the target\n",
    "    test_size=0.3,  # the percentage of observations in the test set\n",
    "    random_state=101, # for reproducibility\n",
    "   stratify=data['le_activity'])  # To create datasets featuring the same percentage of classes as the original one\n",
    "\n",
    "X_train.shape, X_test.shape"
   ]
  },
  {
   "cell_type": "markdown",
   "metadata": {},
   "source": [
    "Checking if the training set is stratified"
   ]
  },
  {
   "cell_type": "code",
   "execution_count": 28,
   "metadata": {},
   "outputs": [
    {
     "name": "stdout",
     "output_type": "stream",
     "text": [
      "Percentage of classes in the original data:\n",
      "Machine Off           0.374131\n",
      "Transitional Delay    0.162669\n",
      "Drilling              0.145459\n",
      "Traveling             0.141794\n",
      "Idle                  0.084829\n",
      "Hole Setup            0.070576\n",
      "Anchoring             0.020541\n",
      "Name: activity, dtype: float64\n",
      "\n",
      "Percentage of classes in the training set:\n",
      "le_activity\n",
      "4              0.374132\n",
      "5              0.162671\n",
      "1              0.145457\n",
      "6              0.141794\n",
      "3              0.084831\n",
      "2              0.070573\n",
      "0              0.020542\n",
      "dtype: float64\n"
     ]
    }
   ],
   "source": [
    "print(\"Percentage of classes in the original data:\")\n",
    "print(data['activity'].value_counts() / len(data['activity']))\n",
    "print(\"\")\n",
    "print(\"Percentage of classes in the training set:\")\n",
    "print(pd.DataFrame(y_train).value_counts() / len(y_train))"
   ]
  },
  {
   "cell_type": "code",
   "execution_count": null,
   "metadata": {},
   "outputs": [],
   "source": []
  },
  {
   "cell_type": "code",
   "execution_count": null,
   "metadata": {},
   "outputs": [],
   "source": []
  },
  {
   "cell_type": "code",
   "execution_count": 29,
   "metadata": {},
   "outputs": [],
   "source": [
    "# Preprocessing pipeline for the numerical variables\n",
    "\n",
    "numeric_transformer = Pipeline(steps=[\n",
    "    ('missing_ind', mdi.AddMissingIndicator(\n",
    "     how='missing_only', variables=['hydraulic_pump'])),\n",
    "    ('imputer', SimpleImputer(strategy='median')),\n",
    "    ('scaler', MinMaxScaler())])\n",
    "\n",
    "preprocessor = ColumnTransformer(\n",
    "    transformers=[\n",
    "        ('numerical', numeric_transformer, num_vars)],\n",
    "                    remainder='passthrough', # To keep the added missing indicator variable of 'hydraulic_pump' ('hydraulic_pump_na')\n",
    "                    n_jobs=-1)\n",
    "\n",
    "# To initialise the pipeline I passed any argument to the transformers.\n",
    "# Those will be changed during the gridsearch below.\n"
   ]
  },
  {
   "cell_type": "code",
   "execution_count": 30,
   "metadata": {},
   "outputs": [
    {
     "data": {
      "text/plain": [
       "<bound method Pipeline._transform of Pipeline(steps=[('missing_ind',\n",
       "                 AddMissingIndicator(variables=['hydraulic_pump'])),\n",
       "                ('imputer', SimpleImputer(strategy='median')),\n",
       "                ('scaler', MinMaxScaler())])>"
      ]
     },
     "execution_count": 30,
     "metadata": {},
     "output_type": "execute_result"
    }
   ],
   "source": [
    "numeric_transformer.transform"
   ]
  },
  {
   "cell_type": "code",
   "execution_count": 31,
   "metadata": {},
   "outputs": [
    {
     "data": {
      "text/plain": [
       "AddMissingIndicator(variables=['hydraulic_pump'])"
      ]
     },
     "execution_count": 31,
     "metadata": {},
     "output_type": "execute_result"
    }
   ],
   "source": [
    "numeric_transformer.named_steps['missing_ind']"
   ]
  },
  {
   "cell_type": "code",
   "execution_count": 32,
   "metadata": {},
   "outputs": [],
   "source": [
    "# Append classifier to preprocessing pipeline.\n",
    "# Now we have a full prediction pipeline.\n",
    "\n",
    "clf = Pipeline(steps=[('preprocessor', preprocessor),\n",
    "                      ('classifier', LogisticRegression(C=1, random_state=101, solver='lbfgs',\n",
    "                          multi_class='multinomial', max_iter = 100))])"
   ]
  },
  {
   "cell_type": "code",
   "execution_count": 33,
   "metadata": {},
   "outputs": [],
   "source": [
    "# Grid with all the parameters that we would like to test\n",
    "\n",
    "param_grid = {\n",
    "    'preprocessor__numerical__imputer__strategy': ['mean', 'median']\n",
    "}\n",
    "\n",
    "grid_search = GridSearchCV(clf, param_grid, cv=3, iid=False, n_jobs=-1, scoring='f1_weighted')\n",
    "\n",
    "# cv=3 is the cross-validation\n",
    "# no_jobs =-1 indicates to use all available cpus\n",
    "# scoring='f1_weighted' indicates to evaluate using the weighted F1 score (to account for label imbalance)\n",
    "# iid=False the loss minimized is the total loss per sample, and not the mean loss across the folds"
   ]
  },
  {
   "cell_type": "code",
   "execution_count": 34,
   "metadata": {},
   "outputs": [
    {
     "name": "stdout",
     "output_type": "stream",
     "text": [
      "best logistic regression from grid search: 0.995\n"
     ]
    }
   ],
   "source": [
    "# Train over all the possible combinations of the parameters above\n",
    "grid_search.fit(X_train, y_train)\n",
    "\n",
    "# Print the best score over the train set\n",
    "print((\"best logistic regression from grid search: %.3f\"\n",
    "       % grid_search.score(X_train, y_train)))"
   ]
  },
  {
   "cell_type": "code",
   "execution_count": 35,
   "metadata": {},
   "outputs": [
    {
     "data": {
      "text/plain": [
       "Pipeline(steps=[('preprocessor',\n",
       "                 ColumnTransformer(n_jobs=-1, remainder='passthrough',\n",
       "                                   transformers=[('numerical',\n",
       "                                                  Pipeline(steps=[('missing_ind',\n",
       "                                                                   AddMissingIndicator(variables=['hydraulic_pump'])),\n",
       "                                                                  ('imputer',\n",
       "                                                                   SimpleImputer()),\n",
       "                                                                  ('scaler',\n",
       "                                                                   MinMaxScaler())]),\n",
       "                                                  ['engine_speed',\n",
       "                                                   'hydraulic_drive_off',\n",
       "                                                   'drill_boom_in_anchor_position',\n",
       "                                                   'pvalve_drill_forward',\n",
       "                                                   'hydraulic_pump', 'bolt',\n",
       "                                                   'boom_lift', 'boom_lower',\n",
       "                                                   'boom_forward',\n",
       "                                                   'boom_backward',\n",
       "                                                   'drill_boom_turn_left',\n",
       "                                                   'drill_boom_turn_right',\n",
       "                                                   'drill_boom_turn_forward',\n",
       "                                                   'drill_boom_turn_backward',\n",
       "                                                   'beam_right', 'beam_left',\n",
       "                                                   'anchor'])])),\n",
       "                ('classifier',\n",
       "                 LogisticRegression(C=1, multi_class='multinomial',\n",
       "                                    random_state=101))])"
      ]
     },
     "execution_count": 35,
     "metadata": {},
     "output_type": "execute_result"
    }
   ],
   "source": [
    "# Best estimator parameters \n",
    "grid_search.best_estimator_"
   ]
  },
  {
   "cell_type": "code",
   "execution_count": 36,
   "metadata": {},
   "outputs": [
    {
     "data": {
      "text/plain": [
       "{'preprocessor__numerical__imputer__strategy': 'mean'}"
      ]
     },
     "execution_count": 36,
     "metadata": {},
     "output_type": "execute_result"
    }
   ],
   "source": [
    "# Best fit parameters or imputation strategy \n",
    "grid_search.best_params_"
   ]
  },
  {
   "cell_type": "code",
   "execution_count": 37,
   "metadata": {},
   "outputs": [
    {
     "data": {
      "text/plain": [
       "[{'preprocessor__numerical__imputer__strategy': 'mean'},\n",
       " {'preprocessor__numerical__imputer__strategy': 'median'}]"
      ]
     },
     "execution_count": 37,
     "metadata": {},
     "output_type": "execute_result"
    }
   ],
   "source": [
    "# Combinations evaluated during the gridsearch\n",
    "grid_search.cv_results_['params']"
   ]
  },
  {
   "cell_type": "code",
   "execution_count": 38,
   "metadata": {},
   "outputs": [
    {
     "name": "stdout",
     "output_type": "stream",
     "text": [
      "Best logistic regression from grid search on test data: 0.994\n"
     ]
    }
   ],
   "source": [
    "# Performance over the test set\n",
    "print((\"Best logistic regression from grid search on test data: %.3f\"\n",
    "       % grid_search.score(X_test, y_test)))"
   ]
  },
  {
   "cell_type": "code",
   "execution_count": null,
   "metadata": {},
   "outputs": [],
   "source": []
  },
  {
   "cell_type": "code",
   "execution_count": 39,
   "metadata": {},
   "outputs": [],
   "source": [
    "# Preprocessing pipeline for the numerical variables\n",
    "\n",
    "numeric_transformer = Pipeline(steps=[\n",
    "    ('missing_ind', mdi.AddMissingIndicator(\n",
    "     how='missing_only', variables=['hydraulic_pump'])),\n",
    "    ('imputer', SimpleImputer(strategy='mean')),\n",
    "    ('scaler', MinMaxScaler())])\n",
    "\n",
    "preprocessor = ColumnTransformer(\n",
    "    transformers=[\n",
    "        ('numerical', numeric_transformer, num_vars)],\n",
    "                    remainder='passthrough', \n",
    "                    n_jobs=-1)\n"
   ]
  },
  {
   "cell_type": "code",
   "execution_count": null,
   "metadata": {},
   "outputs": [],
   "source": [
    "# Preprocessing pipeline for the numerical variables\n",
    "\n",
    "variables_to_drop = ['Unnamed: 0', 'timestamp']\n",
    "def Drop_Unecessary_Columns(data, variables_to_drop=variables_to_drop):\n",
    "    data = data.copy()\n",
    "    data = data[data.columns[~data.columns.isin(variables_to_drop)]]\n",
    "    return data\n",
    "\n",
    "\n",
    "numeric_transformer = Pipeline(steps=[\n",
    "    ('feature_selection',  FunctionTransformer(Drop_Unecessary_Columns)),\n",
    "    ('missing_ind', mdi.AddMissingIndicator(\n",
    "     how='missing_only', variables=['hydraulic_pump'])),\n",
    "    ('imputer', SimpleImputer(strategy='mean')),\n",
    "    ('scaler', MinMaxScaler())])\n",
    "\n",
    "preprocessor = ColumnTransformer(\n",
    "    transformers=[\n",
    "        ('numerical', numeric_transformer, num_vars)],\n",
    "                    remainder='passthrough', \n",
    "                    n_jobs=-1)\n"
   ]
  },
  {
   "cell_type": "code",
   "execution_count": 48,
   "metadata": {},
   "outputs": [
    {
     "data": {
      "text/plain": [
       "LogisticRegression(C=1, multi_class='multinomial', random_state=101)"
      ]
     },
     "execution_count": 48,
     "metadata": {},
     "output_type": "execute_result"
    }
   ],
   "source": [
    "clf_lr = LogisticRegression(C=1, random_state=101, solver='lbfgs',\n",
    "                          multi_class='multinomial', max_iter = 100)\n",
    "\n",
    "X_train_prep = preprocessor.fit_transform(X_train)\n",
    "X_test_prep = preprocessor.fit_transform(X_test)\n",
    "clf_lr.fit(X_train_prep, y_train)"
   ]
  },
  {
   "cell_type": "code",
   "execution_count": null,
   "metadata": {},
   "outputs": [],
   "source": [
    "# Funtion to evaluate the model\n",
    "def evaluate(model, X_test, y_test, tuned=None, model_type=None, oe=None):\n",
    "    labels = [0, 1, 2, 3, 4, 5, 6]\n",
    "    if model_type:\n",
    "        y_pred = model.predict(X_test)\n",
    "        # One hot encode the prediction\n",
    "        y_pred = oe.fit_transform(array(y_pred).reshape(-1,1) ).toarray()\n",
    "        # Decode the prediction\n",
    "        y_pred = oe.inverse_transform(y_pred)\n",
    "        # Flattening the list of NumPy arrays\n",
    "        y_pred = np.concatenate(y_pred).ravel()\n",
    "        accuracy = metrics.accuracy_score(y_test, y_pred)\n",
    "        print('{} Performance:'.format(model_type))\n",
    "    else:\n",
    "        y_pred = model.predict(X_test)\n",
    "        accuracy = accuracy_score(y_test, y_pred)\n",
    "        if tuned:\n",
    "            print('{} {} Performance:'.format(tuned, type(model).__name__))\n",
    "        else:\n",
    "            print('{} Performance:'.format(type(model).__name__))     \n",
    "    print(classification_report(y_test, y_pred))\n",
    "    print('Accuracy:{}'.format(accuracy))\n",
    "    print('Confusion Matrix:')\n",
    "    cm = confusion_matrix(y_test, y_pred, labels)\n",
    "    print(cm)\n",
    "    fig = plt.figure()\n",
    "    ax = fig.add_subplot(111)\n",
    "    cax = ax.matshow(cm)\n",
    "    plt.title('Confusion matrix of the classifier')\n",
    "    fig.colorbar(cax)\n",
    "    ax.set_xticklabels([''] + labels)\n",
    "    ax.set_yticklabels([''] + labels)\n",
    "    plt.xlabel('Predicted')\n",
    "    plt.ylabel('True')\n",
    "    plt.show()\n"
   ]
  },
  {
   "cell_type": "code",
   "execution_count": 49,
   "metadata": {},
   "outputs": [
    {
     "name": "stdout",
     "output_type": "stream",
     "text": [
      "LogisticRegression Performance:\n",
      "              precision    recall  f1-score   support\n",
      "\n",
      "           0       1.00      1.00      1.00       923\n",
      "           1       1.00      1.00      1.00      6537\n",
      "           2       1.00      1.00      1.00      3172\n",
      "           3       0.95      0.99      0.97      3812\n",
      "           4       1.00      1.00      1.00     16813\n",
      "           5       1.00      1.00      1.00      7310\n",
      "           6       1.00      0.97      0.98      6372\n",
      "\n",
      "    accuracy                           0.99     44939\n",
      "   macro avg       0.99      0.99      0.99     44939\n",
      "weighted avg       0.99      0.99      0.99     44939\n",
      "\n",
      "Accuracy:0.9942143794922005\n",
      "Confusion Matrix:\n",
      "[[  923     0     0     0     0     0     0]\n",
      " [    0  6527     5     0     0     5     0]\n",
      " [    0     1  3170     0     0     0     1]\n",
      " [    0     1     0  3761    48     0     2]\n",
      " [    0     0     0     0 16813     0     0]\n",
      " [    0     6     0     0     0  7304     0]\n",
      " [    0     0     0   191     0     0  6181]]\n"
     ]
    },
    {
     "data": {
      "image/png": "[encoded data removed]",
      "text/plain": [
       "<Figure size 432x288 with 2 Axes>"
      ]
     },
     "metadata": {
      "needs_background": "light"
     },
     "output_type": "display_data"
    }
   ],
   "source": [
    "# Evaluation\n",
    "evaluate(clf_lr, X_test_prep, y_test)"
   ]
  },
  {
   "cell_type": "code",
   "execution_count": null,
   "metadata": {},
   "outputs": [],
   "source": []
  },
  {
   "cell_type": "code",
   "execution_count": 114,
   "metadata": {},
   "outputs": [
    {
     "data": {
      "text/plain": [
       "['logistic_regression.pkl']"
      ]
     },
     "execution_count": 114,
     "metadata": {},
     "output_type": "execute_result"
    }
   ],
   "source": [
    "# we persist the model for future use\n",
    "joblib.dump(grid_search.best_estimator_, 'logistic_regression.pkl')"
   ]
  },
  {
   "cell_type": "code",
   "execution_count": 55,
   "metadata": {},
   "outputs": [
    {
     "data": {
      "text/plain": [
       "array([[0.        , 0.97052566, 0.9782607 , ..., 0.        , 0.        ,\n",
       "        1.        ],\n",
       "       [0.        , 0.        , 0.        , ..., 0.        , 0.        ,\n",
       "        1.        ],\n",
       "       [0.97736173, 0.        , 0.        , ..., 0.        , 0.        ,\n",
       "        1.        ],\n",
       "       ...,\n",
       "       [0.34298218, 0.        , 0.        , ..., 0.        , 0.        ,\n",
       "        1.        ],\n",
       "       [0.34187608, 0.        , 0.96546649, ..., 0.        , 0.        ,\n",
       "        1.        ],\n",
       "       [0.        , 0.        , 0.        , ..., 0.        , 0.        ,\n",
       "        1.        ]])"
      ]
     },
     "execution_count": 55,
     "metadata": {},
     "output_type": "execute_result"
    }
   ],
   "source": [
    "a = preprocessor.fit_transform(X_train)\n",
    "a"
   ]
  },
  {
   "cell_type": "code",
   "execution_count": 260,
   "metadata": {},
   "outputs": [
    {
     "data": {
      "text/html": [
       "<div>\n",
       "<style scoped>\n",
       "    .dataframe tbody tr th:only-of-type {\n",
       "        vertical-align: middle;\n",
       "    }\n",
       "\n",
       "    .dataframe tbody tr th {\n",
       "        vertical-align: top;\n",
       "    }\n",
       "\n",
       "    .dataframe thead th {\n",
       "        text-align: right;\n",
       "    }\n",
       "</style>\n",
       "<table border=\"1\" class=\"dataframe\">\n",
       "  <thead>\n",
       "    <tr style=\"text-align: right;\">\n",
       "      <th></th>\n",
       "      <th>engine_speed</th>\n",
       "      <th>hydraulic_drive_off</th>\n",
       "      <th>drill_boom_in_anchor_position</th>\n",
       "      <th>pvalve_drill_forward</th>\n",
       "      <th>hydraulic_pump</th>\n",
       "      <th>bolt</th>\n",
       "      <th>boom_lift</th>\n",
       "      <th>boom_lower</th>\n",
       "      <th>boom_forward</th>\n",
       "      <th>boom_backward</th>\n",
       "      <th>drill_boom_turn_left</th>\n",
       "      <th>drill_boom_turn_right</th>\n",
       "      <th>drill_boom_turn_forward</th>\n",
       "      <th>drill_boom_turn_backward</th>\n",
       "      <th>beam_right</th>\n",
       "      <th>beam_left</th>\n",
       "      <th>anchor</th>\n",
       "    </tr>\n",
       "  </thead>\n",
       "  <tbody>\n",
       "    <tr>\n",
       "      <th>97046</th>\n",
       "      <td>0.000000</td>\n",
       "      <td>0.083955</td>\n",
       "      <td>0.478897</td>\n",
       "      <td>1312.844774</td>\n",
       "      <td>NaN</td>\n",
       "      <td>0.000000</td>\n",
       "      <td>0.0</td>\n",
       "      <td>0.000000</td>\n",
       "      <td>0.000000</td>\n",
       "      <td>0.000000</td>\n",
       "      <td>0.0</td>\n",
       "      <td>0.000000</td>\n",
       "      <td>0.0</td>\n",
       "      <td>0.000000</td>\n",
       "      <td>0.0</td>\n",
       "      <td>0.0</td>\n",
       "      <td>0.0</td>\n",
       "    </tr>\n",
       "    <tr>\n",
       "      <th>65580</th>\n",
       "      <td>0.000000</td>\n",
       "      <td>0.000000</td>\n",
       "      <td>0.000000</td>\n",
       "      <td>0.000000</td>\n",
       "      <td>NaN</td>\n",
       "      <td>0.000000</td>\n",
       "      <td>0.0</td>\n",
       "      <td>0.000000</td>\n",
       "      <td>0.000000</td>\n",
       "      <td>0.000000</td>\n",
       "      <td>0.0</td>\n",
       "      <td>0.000000</td>\n",
       "      <td>0.0</td>\n",
       "      <td>0.000000</td>\n",
       "      <td>0.0</td>\n",
       "      <td>0.0</td>\n",
       "      <td>0.0</td>\n",
       "    </tr>\n",
       "    <tr>\n",
       "      <th>80751</th>\n",
       "      <td>216.917949</td>\n",
       "      <td>0.000000</td>\n",
       "      <td>0.000000</td>\n",
       "      <td>0.000000</td>\n",
       "      <td>NaN</td>\n",
       "      <td>0.000000</td>\n",
       "      <td>0.0</td>\n",
       "      <td>0.000000</td>\n",
       "      <td>0.000000</td>\n",
       "      <td>0.000000</td>\n",
       "      <td>0.0</td>\n",
       "      <td>0.000000</td>\n",
       "      <td>0.0</td>\n",
       "      <td>0.000000</td>\n",
       "      <td>0.0</td>\n",
       "      <td>0.0</td>\n",
       "      <td>0.0</td>\n",
       "    </tr>\n",
       "    <tr>\n",
       "      <th>16027</th>\n",
       "      <td>0.000000</td>\n",
       "      <td>0.000000</td>\n",
       "      <td>0.000000</td>\n",
       "      <td>616.661991</td>\n",
       "      <td>NaN</td>\n",
       "      <td>0.000000</td>\n",
       "      <td>0.0</td>\n",
       "      <td>0.000000</td>\n",
       "      <td>0.000000</td>\n",
       "      <td>2.614998</td>\n",
       "      <td>0.0</td>\n",
       "      <td>0.000000</td>\n",
       "      <td>0.0</td>\n",
       "      <td>0.000000</td>\n",
       "      <td>0.0</td>\n",
       "      <td>0.0</td>\n",
       "      <td>0.0</td>\n",
       "    </tr>\n",
       "    <tr>\n",
       "      <th>67264</th>\n",
       "      <td>0.000000</td>\n",
       "      <td>0.082080</td>\n",
       "      <td>0.473758</td>\n",
       "      <td>96.001013</td>\n",
       "      <td>NaN</td>\n",
       "      <td>0.000000</td>\n",
       "      <td>0.0</td>\n",
       "      <td>0.000000</td>\n",
       "      <td>0.000000</td>\n",
       "      <td>0.000000</td>\n",
       "      <td>0.0</td>\n",
       "      <td>0.000000</td>\n",
       "      <td>0.0</td>\n",
       "      <td>0.000000</td>\n",
       "      <td>0.0</td>\n",
       "      <td>0.0</td>\n",
       "      <td>0.0</td>\n",
       "    </tr>\n",
       "    <tr>\n",
       "      <th>4082</th>\n",
       "      <td>0.000000</td>\n",
       "      <td>0.000000</td>\n",
       "      <td>0.000000</td>\n",
       "      <td>616.661991</td>\n",
       "      <td>NaN</td>\n",
       "      <td>0.000000</td>\n",
       "      <td>0.0</td>\n",
       "      <td>0.000000</td>\n",
       "      <td>0.000000</td>\n",
       "      <td>2.614998</td>\n",
       "      <td>0.0</td>\n",
       "      <td>0.000000</td>\n",
       "      <td>0.0</td>\n",
       "      <td>0.000000</td>\n",
       "      <td>0.0</td>\n",
       "      <td>0.0</td>\n",
       "      <td>0.0</td>\n",
       "    </tr>\n",
       "    <tr>\n",
       "      <th>124871</th>\n",
       "      <td>0.000000</td>\n",
       "      <td>0.084111</td>\n",
       "      <td>0.476899</td>\n",
       "      <td>758.135670</td>\n",
       "      <td>0.0</td>\n",
       "      <td>0.000000</td>\n",
       "      <td>0.0</td>\n",
       "      <td>0.145949</td>\n",
       "      <td>0.000000</td>\n",
       "      <td>0.000000</td>\n",
       "      <td>0.0</td>\n",
       "      <td>0.000000</td>\n",
       "      <td>0.0</td>\n",
       "      <td>0.404162</td>\n",
       "      <td>0.0</td>\n",
       "      <td>0.0</td>\n",
       "      <td>0.0</td>\n",
       "    </tr>\n",
       "    <tr>\n",
       "      <th>74493</th>\n",
       "      <td>0.000000</td>\n",
       "      <td>0.084786</td>\n",
       "      <td>0.472918</td>\n",
       "      <td>1304.514304</td>\n",
       "      <td>NaN</td>\n",
       "      <td>1.384568</td>\n",
       "      <td>0.0</td>\n",
       "      <td>0.000000</td>\n",
       "      <td>0.000000</td>\n",
       "      <td>0.000000</td>\n",
       "      <td>0.0</td>\n",
       "      <td>0.000000</td>\n",
       "      <td>0.0</td>\n",
       "      <td>0.000000</td>\n",
       "      <td>0.0</td>\n",
       "      <td>0.0</td>\n",
       "      <td>0.0</td>\n",
       "    </tr>\n",
       "    <tr>\n",
       "      <th>146610</th>\n",
       "      <td>75.203048</td>\n",
       "      <td>0.000000</td>\n",
       "      <td>0.000000</td>\n",
       "      <td>391.745418</td>\n",
       "      <td>NaN</td>\n",
       "      <td>0.000000</td>\n",
       "      <td>0.0</td>\n",
       "      <td>0.000000</td>\n",
       "      <td>0.000000</td>\n",
       "      <td>2.604760</td>\n",
       "      <td>0.0</td>\n",
       "      <td>0.000000</td>\n",
       "      <td>0.0</td>\n",
       "      <td>0.000000</td>\n",
       "      <td>0.0</td>\n",
       "      <td>0.0</td>\n",
       "      <td>0.0</td>\n",
       "    </tr>\n",
       "    <tr>\n",
       "      <th>29222</th>\n",
       "      <td>0.000000</td>\n",
       "      <td>0.000000</td>\n",
       "      <td>0.000000</td>\n",
       "      <td>616.661991</td>\n",
       "      <td>NaN</td>\n",
       "      <td>0.000000</td>\n",
       "      <td>0.0</td>\n",
       "      <td>0.000000</td>\n",
       "      <td>0.000000</td>\n",
       "      <td>2.614998</td>\n",
       "      <td>0.0</td>\n",
       "      <td>0.000000</td>\n",
       "      <td>0.0</td>\n",
       "      <td>0.000000</td>\n",
       "      <td>0.0</td>\n",
       "      <td>0.0</td>\n",
       "      <td>0.0</td>\n",
       "    </tr>\n",
       "    <tr>\n",
       "      <th>82556</th>\n",
       "      <td>0.000000</td>\n",
       "      <td>0.084362</td>\n",
       "      <td>0.478201</td>\n",
       "      <td>670.181552</td>\n",
       "      <td>NaN</td>\n",
       "      <td>0.000000</td>\n",
       "      <td>0.0</td>\n",
       "      <td>0.000000</td>\n",
       "      <td>1.800634</td>\n",
       "      <td>0.000000</td>\n",
       "      <td>0.0</td>\n",
       "      <td>0.000000</td>\n",
       "      <td>0.0</td>\n",
       "      <td>0.000000</td>\n",
       "      <td>0.0</td>\n",
       "      <td>0.0</td>\n",
       "      <td>0.0</td>\n",
       "    </tr>\n",
       "    <tr>\n",
       "      <th>93137</th>\n",
       "      <td>0.000000</td>\n",
       "      <td>0.084779</td>\n",
       "      <td>0.484763</td>\n",
       "      <td>699.050468</td>\n",
       "      <td>NaN</td>\n",
       "      <td>0.000000</td>\n",
       "      <td>0.0</td>\n",
       "      <td>0.000000</td>\n",
       "      <td>0.000000</td>\n",
       "      <td>0.000000</td>\n",
       "      <td>0.0</td>\n",
       "      <td>0.000000</td>\n",
       "      <td>0.0</td>\n",
       "      <td>0.000000</td>\n",
       "      <td>0.0</td>\n",
       "      <td>0.0</td>\n",
       "      <td>0.0</td>\n",
       "    </tr>\n",
       "    <tr>\n",
       "      <th>133588</th>\n",
       "      <td>216.304098</td>\n",
       "      <td>0.000000</td>\n",
       "      <td>0.000000</td>\n",
       "      <td>0.000000</td>\n",
       "      <td>NaN</td>\n",
       "      <td>0.000000</td>\n",
       "      <td>0.0</td>\n",
       "      <td>0.000000</td>\n",
       "      <td>0.000000</td>\n",
       "      <td>0.000000</td>\n",
       "      <td>0.0</td>\n",
       "      <td>0.000000</td>\n",
       "      <td>0.0</td>\n",
       "      <td>0.000000</td>\n",
       "      <td>0.0</td>\n",
       "      <td>0.0</td>\n",
       "      <td>0.0</td>\n",
       "    </tr>\n",
       "    <tr>\n",
       "      <th>108372</th>\n",
       "      <td>0.000000</td>\n",
       "      <td>0.084618</td>\n",
       "      <td>0.476714</td>\n",
       "      <td>677.230222</td>\n",
       "      <td>NaN</td>\n",
       "      <td>0.000000</td>\n",
       "      <td>0.0</td>\n",
       "      <td>0.000000</td>\n",
       "      <td>0.000000</td>\n",
       "      <td>0.000000</td>\n",
       "      <td>0.0</td>\n",
       "      <td>0.382806</td>\n",
       "      <td>0.0</td>\n",
       "      <td>0.000000</td>\n",
       "      <td>0.0</td>\n",
       "      <td>0.0</td>\n",
       "      <td>0.0</td>\n",
       "    </tr>\n",
       "    <tr>\n",
       "      <th>65607</th>\n",
       "      <td>0.000000</td>\n",
       "      <td>0.000000</td>\n",
       "      <td>0.000000</td>\n",
       "      <td>0.000000</td>\n",
       "      <td>NaN</td>\n",
       "      <td>0.000000</td>\n",
       "      <td>0.0</td>\n",
       "      <td>0.000000</td>\n",
       "      <td>0.000000</td>\n",
       "      <td>0.000000</td>\n",
       "      <td>0.0</td>\n",
       "      <td>0.000000</td>\n",
       "      <td>0.0</td>\n",
       "      <td>0.000000</td>\n",
       "      <td>0.0</td>\n",
       "      <td>0.0</td>\n",
       "      <td>0.0</td>\n",
       "    </tr>\n",
       "  </tbody>\n",
       "</table>\n",
       "</div>"
      ],
      "text/plain": [
       "        engine_speed  hydraulic_drive_off  drill_boom_in_anchor_position  \\\n",
       "97046       0.000000             0.083955                       0.478897   \n",
       "65580       0.000000             0.000000                       0.000000   \n",
       "80751     216.917949             0.000000                       0.000000   \n",
       "16027       0.000000             0.000000                       0.000000   \n",
       "67264       0.000000             0.082080                       0.473758   \n",
       "4082        0.000000             0.000000                       0.000000   \n",
       "124871      0.000000             0.084111                       0.476899   \n",
       "74493       0.000000             0.084786                       0.472918   \n",
       "146610     75.203048             0.000000                       0.000000   \n",
       "29222       0.000000             0.000000                       0.000000   \n",
       "82556       0.000000             0.084362                       0.478201   \n",
       "93137       0.000000             0.084779                       0.484763   \n",
       "133588    216.304098             0.000000                       0.000000   \n",
       "108372      0.000000             0.084618                       0.476714   \n",
       "65607       0.000000             0.000000                       0.000000   \n",
       "\n",
       "        pvalve_drill_forward  hydraulic_pump      bolt  boom_lift  boom_lower  \\\n",
       "97046            1312.844774             NaN  0.000000        0.0    0.000000   \n",
       "65580               0.000000             NaN  0.000000        0.0    0.000000   \n",
       "80751               0.000000             NaN  0.000000        0.0    0.000000   \n",
       "16027             616.661991             NaN  0.000000        0.0    0.000000   \n",
       "67264              96.001013             NaN  0.000000        0.0    0.000000   \n",
       "4082              616.661991             NaN  0.000000        0.0    0.000000   \n",
       "124871            758.135670             0.0  0.000000        0.0    0.145949   \n",
       "74493            1304.514304             NaN  1.384568        0.0    0.000000   \n",
       "146610            391.745418             NaN  0.000000        0.0    0.000000   \n",
       "29222             616.661991             NaN  0.000000        0.0    0.000000   \n",
       "82556             670.181552             NaN  0.000000        0.0    0.000000   \n",
       "93137             699.050468             NaN  0.000000        0.0    0.000000   \n",
       "133588              0.000000             NaN  0.000000        0.0    0.000000   \n",
       "108372            677.230222             NaN  0.000000        0.0    0.000000   \n",
       "65607               0.000000             NaN  0.000000        0.0    0.000000   \n",
       "\n",
       "        boom_forward  boom_backward  drill_boom_turn_left  \\\n",
       "97046       0.000000       0.000000                   0.0   \n",
       "65580       0.000000       0.000000                   0.0   \n",
       "80751       0.000000       0.000000                   0.0   \n",
       "16027       0.000000       2.614998                   0.0   \n",
       "67264       0.000000       0.000000                   0.0   \n",
       "4082        0.000000       2.614998                   0.0   \n",
       "124871      0.000000       0.000000                   0.0   \n",
       "74493       0.000000       0.000000                   0.0   \n",
       "146610      0.000000       2.604760                   0.0   \n",
       "29222       0.000000       2.614998                   0.0   \n",
       "82556       1.800634       0.000000                   0.0   \n",
       "93137       0.000000       0.000000                   0.0   \n",
       "133588      0.000000       0.000000                   0.0   \n",
       "108372      0.000000       0.000000                   0.0   \n",
       "65607       0.000000       0.000000                   0.0   \n",
       "\n",
       "        drill_boom_turn_right  drill_boom_turn_forward  \\\n",
       "97046                0.000000                      0.0   \n",
       "65580                0.000000                      0.0   \n",
       "80751                0.000000                      0.0   \n",
       "16027                0.000000                      0.0   \n",
       "67264                0.000000                      0.0   \n",
       "4082                 0.000000                      0.0   \n",
       "124871               0.000000                      0.0   \n",
       "74493                0.000000                      0.0   \n",
       "146610               0.000000                      0.0   \n",
       "29222                0.000000                      0.0   \n",
       "82556                0.000000                      0.0   \n",
       "93137                0.000000                      0.0   \n",
       "133588               0.000000                      0.0   \n",
       "108372               0.382806                      0.0   \n",
       "65607                0.000000                      0.0   \n",
       "\n",
       "        drill_boom_turn_backward  beam_right  beam_left  anchor  \n",
       "97046                   0.000000         0.0        0.0     0.0  \n",
       "65580                   0.000000         0.0        0.0     0.0  \n",
       "80751                   0.000000         0.0        0.0     0.0  \n",
       "16027                   0.000000         0.0        0.0     0.0  \n",
       "67264                   0.000000         0.0        0.0     0.0  \n",
       "4082                    0.000000         0.0        0.0     0.0  \n",
       "124871                  0.404162         0.0        0.0     0.0  \n",
       "74493                   0.000000         0.0        0.0     0.0  \n",
       "146610                  0.000000         0.0        0.0     0.0  \n",
       "29222                   0.000000         0.0        0.0     0.0  \n",
       "82556                   0.000000         0.0        0.0     0.0  \n",
       "93137                   0.000000         0.0        0.0     0.0  \n",
       "133588                  0.000000         0.0        0.0     0.0  \n",
       "108372                  0.000000         0.0        0.0     0.0  \n",
       "65607                   0.000000         0.0        0.0     0.0  "
      ]
     },
     "execution_count": 260,
     "metadata": {},
     "output_type": "execute_result"
    }
   ],
   "source": [
    "pd.DataFrame(X_train).head(15)"
   ]
  },
  {
   "cell_type": "code",
   "execution_count": 56,
   "metadata": {},
   "outputs": [
    {
     "data": {
      "text/html": [
       "<div>\n",
       "<style scoped>\n",
       "    .dataframe tbody tr th:only-of-type {\n",
       "        vertical-align: middle;\n",
       "    }\n",
       "\n",
       "    .dataframe tbody tr th {\n",
       "        vertical-align: top;\n",
       "    }\n",
       "\n",
       "    .dataframe thead th {\n",
       "        text-align: right;\n",
       "    }\n",
       "</style>\n",
       "<table border=\"1\" class=\"dataframe\">\n",
       "  <thead>\n",
       "    <tr style=\"text-align: right;\">\n",
       "      <th></th>\n",
       "      <th>hydraulic_drive_off</th>\n",
       "      <th>drill_boom_in_anchor_position</th>\n",
       "      <th>pvalve_drill_forward</th>\n",
       "      <th>hydraulic_pump</th>\n",
       "      <th>bolt</th>\n",
       "      <th>boom_lift</th>\n",
       "      <th>boom_lower</th>\n",
       "      <th>boom_forward</th>\n",
       "      <th>boom_backward</th>\n",
       "      <th>drill_boom_turn_left</th>\n",
       "      <th>drill_boom_turn_right</th>\n",
       "      <th>drill_boom_turn_forward</th>\n",
       "      <th>drill_boom_turn_backward</th>\n",
       "      <th>beam_right</th>\n",
       "      <th>beam_left</th>\n",
       "      <th>anchor</th>\n",
       "      <th>hydraulic_pump_na</th>\n",
       "      <th>engine_speed</th>\n",
       "    </tr>\n",
       "  </thead>\n",
       "  <tbody>\n",
       "    <tr>\n",
       "      <th>0</th>\n",
       "      <td>0.000000</td>\n",
       "      <td>0.970526</td>\n",
       "      <td>0.978261</td>\n",
       "      <td>0.975048</td>\n",
       "      <td>0.0</td>\n",
       "      <td>0.000000</td>\n",
       "      <td>0.0</td>\n",
       "      <td>0.000000</td>\n",
       "      <td>0.000000</td>\n",
       "      <td>0.000000</td>\n",
       "      <td>0.0</td>\n",
       "      <td>0.000000</td>\n",
       "      <td>0.0</td>\n",
       "      <td>0.000000</td>\n",
       "      <td>0.0</td>\n",
       "      <td>0.0</td>\n",
       "      <td>0.0</td>\n",
       "      <td>1.0</td>\n",
       "    </tr>\n",
       "    <tr>\n",
       "      <th>1</th>\n",
       "      <td>0.000000</td>\n",
       "      <td>0.000000</td>\n",
       "      <td>0.000000</td>\n",
       "      <td>0.000000</td>\n",
       "      <td>0.0</td>\n",
       "      <td>0.000000</td>\n",
       "      <td>0.0</td>\n",
       "      <td>0.000000</td>\n",
       "      <td>0.000000</td>\n",
       "      <td>0.000000</td>\n",
       "      <td>0.0</td>\n",
       "      <td>0.000000</td>\n",
       "      <td>0.0</td>\n",
       "      <td>0.000000</td>\n",
       "      <td>0.0</td>\n",
       "      <td>0.0</td>\n",
       "      <td>0.0</td>\n",
       "      <td>1.0</td>\n",
       "    </tr>\n",
       "    <tr>\n",
       "      <th>2</th>\n",
       "      <td>0.977362</td>\n",
       "      <td>0.000000</td>\n",
       "      <td>0.000000</td>\n",
       "      <td>0.000000</td>\n",
       "      <td>0.0</td>\n",
       "      <td>0.000000</td>\n",
       "      <td>0.0</td>\n",
       "      <td>0.000000</td>\n",
       "      <td>0.000000</td>\n",
       "      <td>0.000000</td>\n",
       "      <td>0.0</td>\n",
       "      <td>0.000000</td>\n",
       "      <td>0.0</td>\n",
       "      <td>0.000000</td>\n",
       "      <td>0.0</td>\n",
       "      <td>0.0</td>\n",
       "      <td>0.0</td>\n",
       "      <td>1.0</td>\n",
       "    </tr>\n",
       "    <tr>\n",
       "      <th>3</th>\n",
       "      <td>0.000000</td>\n",
       "      <td>0.000000</td>\n",
       "      <td>0.000000</td>\n",
       "      <td>0.457994</td>\n",
       "      <td>0.0</td>\n",
       "      <td>0.000000</td>\n",
       "      <td>0.0</td>\n",
       "      <td>0.000000</td>\n",
       "      <td>0.000000</td>\n",
       "      <td>0.969318</td>\n",
       "      <td>0.0</td>\n",
       "      <td>0.000000</td>\n",
       "      <td>0.0</td>\n",
       "      <td>0.000000</td>\n",
       "      <td>0.0</td>\n",
       "      <td>0.0</td>\n",
       "      <td>0.0</td>\n",
       "      <td>1.0</td>\n",
       "    </tr>\n",
       "    <tr>\n",
       "      <th>4</th>\n",
       "      <td>0.000000</td>\n",
       "      <td>0.948857</td>\n",
       "      <td>0.967762</td>\n",
       "      <td>0.071300</td>\n",
       "      <td>0.0</td>\n",
       "      <td>0.000000</td>\n",
       "      <td>0.0</td>\n",
       "      <td>0.000000</td>\n",
       "      <td>0.000000</td>\n",
       "      <td>0.000000</td>\n",
       "      <td>0.0</td>\n",
       "      <td>0.000000</td>\n",
       "      <td>0.0</td>\n",
       "      <td>0.000000</td>\n",
       "      <td>0.0</td>\n",
       "      <td>0.0</td>\n",
       "      <td>0.0</td>\n",
       "      <td>1.0</td>\n",
       "    </tr>\n",
       "    <tr>\n",
       "      <th>5</th>\n",
       "      <td>0.000000</td>\n",
       "      <td>0.000000</td>\n",
       "      <td>0.000000</td>\n",
       "      <td>0.457994</td>\n",
       "      <td>0.0</td>\n",
       "      <td>0.000000</td>\n",
       "      <td>0.0</td>\n",
       "      <td>0.000000</td>\n",
       "      <td>0.000000</td>\n",
       "      <td>0.969318</td>\n",
       "      <td>0.0</td>\n",
       "      <td>0.000000</td>\n",
       "      <td>0.0</td>\n",
       "      <td>0.000000</td>\n",
       "      <td>0.0</td>\n",
       "      <td>0.0</td>\n",
       "      <td>0.0</td>\n",
       "      <td>1.0</td>\n",
       "    </tr>\n",
       "    <tr>\n",
       "      <th>6</th>\n",
       "      <td>0.000000</td>\n",
       "      <td>0.972329</td>\n",
       "      <td>0.974179</td>\n",
       "      <td>0.563066</td>\n",
       "      <td>0.0</td>\n",
       "      <td>0.000000</td>\n",
       "      <td>0.0</td>\n",
       "      <td>0.987153</td>\n",
       "      <td>0.000000</td>\n",
       "      <td>0.000000</td>\n",
       "      <td>0.0</td>\n",
       "      <td>0.000000</td>\n",
       "      <td>0.0</td>\n",
       "      <td>0.972431</td>\n",
       "      <td>0.0</td>\n",
       "      <td>0.0</td>\n",
       "      <td>0.0</td>\n",
       "      <td>0.0</td>\n",
       "    </tr>\n",
       "    <tr>\n",
       "      <th>7</th>\n",
       "      <td>0.000000</td>\n",
       "      <td>0.980133</td>\n",
       "      <td>0.966048</td>\n",
       "      <td>0.968861</td>\n",
       "      <td>0.0</td>\n",
       "      <td>0.971566</td>\n",
       "      <td>0.0</td>\n",
       "      <td>0.000000</td>\n",
       "      <td>0.000000</td>\n",
       "      <td>0.000000</td>\n",
       "      <td>0.0</td>\n",
       "      <td>0.000000</td>\n",
       "      <td>0.0</td>\n",
       "      <td>0.000000</td>\n",
       "      <td>0.0</td>\n",
       "      <td>0.0</td>\n",
       "      <td>0.0</td>\n",
       "      <td>1.0</td>\n",
       "    </tr>\n",
       "    <tr>\n",
       "      <th>8</th>\n",
       "      <td>0.338840</td>\n",
       "      <td>0.000000</td>\n",
       "      <td>0.000000</td>\n",
       "      <td>0.290949</td>\n",
       "      <td>0.0</td>\n",
       "      <td>0.000000</td>\n",
       "      <td>0.0</td>\n",
       "      <td>0.000000</td>\n",
       "      <td>0.000000</td>\n",
       "      <td>0.965523</td>\n",
       "      <td>0.0</td>\n",
       "      <td>0.000000</td>\n",
       "      <td>0.0</td>\n",
       "      <td>0.000000</td>\n",
       "      <td>0.0</td>\n",
       "      <td>0.0</td>\n",
       "      <td>0.0</td>\n",
       "      <td>1.0</td>\n",
       "    </tr>\n",
       "    <tr>\n",
       "      <th>9</th>\n",
       "      <td>0.000000</td>\n",
       "      <td>0.000000</td>\n",
       "      <td>0.000000</td>\n",
       "      <td>0.457994</td>\n",
       "      <td>0.0</td>\n",
       "      <td>0.000000</td>\n",
       "      <td>0.0</td>\n",
       "      <td>0.000000</td>\n",
       "      <td>0.000000</td>\n",
       "      <td>0.969318</td>\n",
       "      <td>0.0</td>\n",
       "      <td>0.000000</td>\n",
       "      <td>0.0</td>\n",
       "      <td>0.000000</td>\n",
       "      <td>0.0</td>\n",
       "      <td>0.0</td>\n",
       "      <td>0.0</td>\n",
       "      <td>1.0</td>\n",
       "    </tr>\n",
       "    <tr>\n",
       "      <th>10</th>\n",
       "      <td>0.000000</td>\n",
       "      <td>0.975234</td>\n",
       "      <td>0.976839</td>\n",
       "      <td>0.497743</td>\n",
       "      <td>0.0</td>\n",
       "      <td>0.000000</td>\n",
       "      <td>0.0</td>\n",
       "      <td>0.000000</td>\n",
       "      <td>0.973746</td>\n",
       "      <td>0.000000</td>\n",
       "      <td>0.0</td>\n",
       "      <td>0.000000</td>\n",
       "      <td>0.0</td>\n",
       "      <td>0.000000</td>\n",
       "      <td>0.0</td>\n",
       "      <td>0.0</td>\n",
       "      <td>0.0</td>\n",
       "      <td>1.0</td>\n",
       "    </tr>\n",
       "    <tr>\n",
       "      <th>11</th>\n",
       "      <td>0.000000</td>\n",
       "      <td>0.980048</td>\n",
       "      <td>0.990244</td>\n",
       "      <td>0.519184</td>\n",
       "      <td>0.0</td>\n",
       "      <td>0.000000</td>\n",
       "      <td>0.0</td>\n",
       "      <td>0.000000</td>\n",
       "      <td>0.000000</td>\n",
       "      <td>0.000000</td>\n",
       "      <td>0.0</td>\n",
       "      <td>0.000000</td>\n",
       "      <td>0.0</td>\n",
       "      <td>0.000000</td>\n",
       "      <td>0.0</td>\n",
       "      <td>0.0</td>\n",
       "      <td>0.0</td>\n",
       "      <td>1.0</td>\n",
       "    </tr>\n",
       "    <tr>\n",
       "      <th>12</th>\n",
       "      <td>0.974596</td>\n",
       "      <td>0.000000</td>\n",
       "      <td>0.000000</td>\n",
       "      <td>0.000000</td>\n",
       "      <td>0.0</td>\n",
       "      <td>0.000000</td>\n",
       "      <td>0.0</td>\n",
       "      <td>0.000000</td>\n",
       "      <td>0.000000</td>\n",
       "      <td>0.000000</td>\n",
       "      <td>0.0</td>\n",
       "      <td>0.000000</td>\n",
       "      <td>0.0</td>\n",
       "      <td>0.000000</td>\n",
       "      <td>0.0</td>\n",
       "      <td>0.0</td>\n",
       "      <td>0.0</td>\n",
       "      <td>1.0</td>\n",
       "    </tr>\n",
       "    <tr>\n",
       "      <th>13</th>\n",
       "      <td>0.000000</td>\n",
       "      <td>0.978186</td>\n",
       "      <td>0.973802</td>\n",
       "      <td>0.502978</td>\n",
       "      <td>0.0</td>\n",
       "      <td>0.000000</td>\n",
       "      <td>0.0</td>\n",
       "      <td>0.000000</td>\n",
       "      <td>0.000000</td>\n",
       "      <td>0.000000</td>\n",
       "      <td>0.0</td>\n",
       "      <td>0.959266</td>\n",
       "      <td>0.0</td>\n",
       "      <td>0.000000</td>\n",
       "      <td>0.0</td>\n",
       "      <td>0.0</td>\n",
       "      <td>0.0</td>\n",
       "      <td>1.0</td>\n",
       "    </tr>\n",
       "    <tr>\n",
       "      <th>14</th>\n",
       "      <td>0.000000</td>\n",
       "      <td>0.000000</td>\n",
       "      <td>0.000000</td>\n",
       "      <td>0.000000</td>\n",
       "      <td>0.0</td>\n",
       "      <td>0.000000</td>\n",
       "      <td>0.0</td>\n",
       "      <td>0.000000</td>\n",
       "      <td>0.000000</td>\n",
       "      <td>0.000000</td>\n",
       "      <td>0.0</td>\n",
       "      <td>0.000000</td>\n",
       "      <td>0.0</td>\n",
       "      <td>0.000000</td>\n",
       "      <td>0.0</td>\n",
       "      <td>0.0</td>\n",
       "      <td>0.0</td>\n",
       "      <td>1.0</td>\n",
       "    </tr>\n",
       "  </tbody>\n",
       "</table>\n",
       "</div>"
      ],
      "text/plain": [
       "    hydraulic_drive_off  drill_boom_in_anchor_position  pvalve_drill_forward  \\\n",
       "0              0.000000                       0.970526              0.978261   \n",
       "1              0.000000                       0.000000              0.000000   \n",
       "2              0.977362                       0.000000              0.000000   \n",
       "3              0.000000                       0.000000              0.000000   \n",
       "4              0.000000                       0.948857              0.967762   \n",
       "5              0.000000                       0.000000              0.000000   \n",
       "6              0.000000                       0.972329              0.974179   \n",
       "7              0.000000                       0.980133              0.966048   \n",
       "8              0.338840                       0.000000              0.000000   \n",
       "9              0.000000                       0.000000              0.000000   \n",
       "10             0.000000                       0.975234              0.976839   \n",
       "11             0.000000                       0.980048              0.990244   \n",
       "12             0.974596                       0.000000              0.000000   \n",
       "13             0.000000                       0.978186              0.973802   \n",
       "14             0.000000                       0.000000              0.000000   \n",
       "\n",
       "    hydraulic_pump  bolt  boom_lift  boom_lower  boom_forward  boom_backward  \\\n",
       "0         0.975048   0.0   0.000000         0.0      0.000000       0.000000   \n",
       "1         0.000000   0.0   0.000000         0.0      0.000000       0.000000   \n",
       "2         0.000000   0.0   0.000000         0.0      0.000000       0.000000   \n",
       "3         0.457994   0.0   0.000000         0.0      0.000000       0.000000   \n",
       "4         0.071300   0.0   0.000000         0.0      0.000000       0.000000   \n",
       "5         0.457994   0.0   0.000000         0.0      0.000000       0.000000   \n",
       "6         0.563066   0.0   0.000000         0.0      0.987153       0.000000   \n",
       "7         0.968861   0.0   0.971566         0.0      0.000000       0.000000   \n",
       "8         0.290949   0.0   0.000000         0.0      0.000000       0.000000   \n",
       "9         0.457994   0.0   0.000000         0.0      0.000000       0.000000   \n",
       "10        0.497743   0.0   0.000000         0.0      0.000000       0.973746   \n",
       "11        0.519184   0.0   0.000000         0.0      0.000000       0.000000   \n",
       "12        0.000000   0.0   0.000000         0.0      0.000000       0.000000   \n",
       "13        0.502978   0.0   0.000000         0.0      0.000000       0.000000   \n",
       "14        0.000000   0.0   0.000000         0.0      0.000000       0.000000   \n",
       "\n",
       "    drill_boom_turn_left  drill_boom_turn_right  drill_boom_turn_forward  \\\n",
       "0               0.000000                    0.0                 0.000000   \n",
       "1               0.000000                    0.0                 0.000000   \n",
       "2               0.000000                    0.0                 0.000000   \n",
       "3               0.969318                    0.0                 0.000000   \n",
       "4               0.000000                    0.0                 0.000000   \n",
       "5               0.969318                    0.0                 0.000000   \n",
       "6               0.000000                    0.0                 0.000000   \n",
       "7               0.000000                    0.0                 0.000000   \n",
       "8               0.965523                    0.0                 0.000000   \n",
       "9               0.969318                    0.0                 0.000000   \n",
       "10              0.000000                    0.0                 0.000000   \n",
       "11              0.000000                    0.0                 0.000000   \n",
       "12              0.000000                    0.0                 0.000000   \n",
       "13              0.000000                    0.0                 0.959266   \n",
       "14              0.000000                    0.0                 0.000000   \n",
       "\n",
       "    drill_boom_turn_backward  beam_right  beam_left  anchor  \\\n",
       "0                        0.0    0.000000        0.0     0.0   \n",
       "1                        0.0    0.000000        0.0     0.0   \n",
       "2                        0.0    0.000000        0.0     0.0   \n",
       "3                        0.0    0.000000        0.0     0.0   \n",
       "4                        0.0    0.000000        0.0     0.0   \n",
       "5                        0.0    0.000000        0.0     0.0   \n",
       "6                        0.0    0.972431        0.0     0.0   \n",
       "7                        0.0    0.000000        0.0     0.0   \n",
       "8                        0.0    0.000000        0.0     0.0   \n",
       "9                        0.0    0.000000        0.0     0.0   \n",
       "10                       0.0    0.000000        0.0     0.0   \n",
       "11                       0.0    0.000000        0.0     0.0   \n",
       "12                       0.0    0.000000        0.0     0.0   \n",
       "13                       0.0    0.000000        0.0     0.0   \n",
       "14                       0.0    0.000000        0.0     0.0   \n",
       "\n",
       "    hydraulic_pump_na  engine_speed  \n",
       "0                 0.0           1.0  \n",
       "1                 0.0           1.0  \n",
       "2                 0.0           1.0  \n",
       "3                 0.0           1.0  \n",
       "4                 0.0           1.0  \n",
       "5                 0.0           1.0  \n",
       "6                 0.0           0.0  \n",
       "7                 0.0           1.0  \n",
       "8                 0.0           1.0  \n",
       "9                 0.0           1.0  \n",
       "10                0.0           1.0  \n",
       "11                0.0           1.0  \n",
       "12                0.0           1.0  \n",
       "13                0.0           1.0  \n",
       "14                0.0           1.0  "
      ]
     },
     "execution_count": 56,
     "metadata": {},
     "output_type": "execute_result"
    }
   ],
   "source": [
    "b=pd.DataFrame(a)\n",
    "b.columns = ['hydraulic_drive_off',\n",
    " 'drill_boom_in_anchor_position',\n",
    " 'pvalve_drill_forward',\n",
    " 'hydraulic_pump',\n",
    " 'bolt',\n",
    " 'boom_lift',\n",
    " 'boom_lower',\n",
    " 'boom_forward',\n",
    " 'boom_backward',\n",
    " 'drill_boom_turn_left',\n",
    " 'drill_boom_turn_right',\n",
    " 'drill_boom_turn_forward',\n",
    " 'drill_boom_turn_backward',\n",
    " 'beam_right',\n",
    " 'beam_left',\n",
    " 'anchor', 'hydraulic_pump_na', 'engine_speed']\n",
    "b.head(15)"
   ]
  },
  {
   "cell_type": "code",
   "execution_count": 57,
   "metadata": {},
   "outputs": [
    {
     "data": {
      "text/plain": [
       "0.000000    103413\n",
       "0.964446        51\n",
       "0.966550        25\n",
       "0.981850        25\n",
       "0.971873        24\n",
       "             ...  \n",
       "0.963540         1\n",
       "0.967503         1\n",
       "0.980584         1\n",
       "0.953335         1\n",
       "0.972339         1\n",
       "Name: hydraulic_pump_na, Length: 611, dtype: int64"
      ]
     },
     "execution_count": 57,
     "metadata": {},
     "output_type": "execute_result"
    }
   ],
   "source": [
    "b['hydraulic_pump_na'].value_counts()"
   ]
  },
  {
   "cell_type": "code",
   "execution_count": 230,
   "metadata": {},
   "outputs": [
    {
     "data": {
      "text/plain": [
       "103489"
      ]
     },
     "execution_count": 230,
     "metadata": {},
     "output_type": "execute_result"
    }
   ],
   "source": [
    "pd.DataFrame(X_train)['hydraulic_pump'].isnull().sum() + sum(pd.DataFrame(X_train)['hydraulic_pump'] == 0.0)\n",
    "#pd.DataFrame(X_train)['hydraulic_pump'].notnull().sum()"
   ]
  },
  {
   "cell_type": "code",
   "execution_count": 211,
   "metadata": {},
   "outputs": [
    {
     "data": {
      "text/plain": [
       "4590"
      ]
     },
     "execution_count": 211,
     "metadata": {},
     "output_type": "execute_result"
    }
   ],
   "source": [
    "sum(pd.DataFrame(X_train)['hydraulic_pump'] == 0)"
   ]
  },
  {
   "cell_type": "code",
   "execution_count": 148,
   "metadata": {},
   "outputs": [
    {
     "data": {
      "text/plain": [
       "0.000000        103489\n",
       "7786.670158          1\n",
       "8066.662822          1\n",
       "47792.993080         1\n",
       "48512.302964         1\n",
       "                 ...  \n",
       "6440.730659          1\n",
       "8119.674694          1\n",
       "2186.362554          1\n",
       "48260.214248         1\n",
       "7599.648111          1\n",
       "Name: hydraulic_pump, Length: 1368, dtype: int64"
      ]
     },
     "execution_count": 148,
     "metadata": {},
     "output_type": "execute_result"
    }
   ],
   "source": [
    "b['hydraulic_pump'].value_counts()"
   ]
  },
  {
   "cell_type": "code",
   "execution_count": 71,
   "metadata": {},
   "outputs": [],
   "source": [
    "def get_column_names_from_ColumnTransformer(column_transformer):    \n",
    "    col_name = []\n",
    "    for transformer_in_columns in column_transformer.transformers_[:-1]:#the last transformer is ColumnTransformer's 'remainder'\n",
    "        raw_col_name = transformer_in_columns[2]\n",
    "        if isinstance(transformer_in_columns[1],Pipeline): \n",
    "            transformer = transformer_in_columns[1].steps[-1][1]\n",
    "        else:\n",
    "            transformer = transformer_in_columns[1]\n",
    "        try:\n",
    "            names = transformer.get_feature_names()\n",
    "        except AttributeError: # if no 'get_feature_names' function, use raw column name\n",
    "            names = raw_col_name\n",
    "        if isinstance(names,np.ndarray): # eg.\n",
    "            col_name += names.tolist()\n",
    "        elif isinstance(names,list):\n",
    "            col_name += names    \n",
    "        elif isinstance(names,str):\n",
    "            col_name.append(names)\n",
    "    return col_name"
   ]
  },
  {
   "cell_type": "code",
   "execution_count": 74,
   "metadata": {},
   "outputs": [
    {
     "data": {
      "text/plain": [
       "[]"
      ]
     },
     "execution_count": 74,
     "metadata": {},
     "output_type": "execute_result"
    }
   ],
   "source": [
    "get_column_names_from_ColumnTransformer(preprocessor)"
   ]
  },
  {
   "cell_type": "code",
   "execution_count": 70,
   "metadata": {},
   "outputs": [
    {
     "data": {
      "text/plain": [
       "ColumnTransformer(n_jobs=-1, remainder='passthrough',\n",
       "                  transformers=[('numerical',\n",
       "                                 Pipeline(steps=[('missing_ind',\n",
       "                                                  AddMissingIndicator(variables=['hydraulic_pump'])),\n",
       "                                                 ('imputer', SimpleImputer()),\n",
       "                                                 ('scaler', MinMaxScaler())]),\n",
       "                                 ['engine_speed', 'hydraulic_drive_off',\n",
       "                                  'drill_boom_in_anchor_position',\n",
       "                                  'pvalve_drill_forward', 'hydraulic_pump',\n",
       "                                  'bolt', 'boom_lift', 'boom_lower',\n",
       "                                  'boom_forward', 'boom_backward',\n",
       "                                  'drill_boom_turn_left',\n",
       "                                  'drill_boom_turn_right',\n",
       "                                  'drill_boom_turn_forward',\n",
       "                                  'drill_boom_turn_backward', 'beam_right',\n",
       "                                  'beam_left', 'anchor'])])"
      ]
     },
     "execution_count": 70,
     "metadata": {},
     "output_type": "execute_result"
    }
   ],
   "source": [
    "preprocessor"
   ]
  },
  {
   "cell_type": "code",
   "execution_count": 58,
   "metadata": {},
   "outputs": [
    {
     "data": {
      "text/plain": [
       "17"
      ]
     },
     "execution_count": 58,
     "metadata": {},
     "output_type": "execute_result"
    }
   ],
   "source": [
    "len(num_vars)"
   ]
  },
  {
   "cell_type": "code",
   "execution_count": 131,
   "metadata": {},
   "outputs": [
    {
     "data": {
      "text/plain": [
       "104855"
      ]
     },
     "execution_count": 131,
     "metadata": {},
     "output_type": "execute_result"
    }
   ],
   "source": [
    "len(a[:-1])"
   ]
  },
  {
   "cell_type": "code",
   "execution_count": 59,
   "metadata": {},
   "outputs": [
    {
     "data": {
      "text/plain": [
       "0.9942313714843211"
      ]
     },
     "execution_count": 59,
     "metadata": {},
     "output_type": "execute_result"
    }
   ],
   "source": [
    "grid_search.score(X_test, y_test)"
   ]
  },
  {
   "cell_type": "code",
   "execution_count": 60,
   "metadata": {},
   "outputs": [
    {
     "name": "stdout",
     "output_type": "stream",
     "text": [
      "[0 1 2 3 4 5 6]\n"
     ]
    },
    {
     "data": {
      "text/plain": [
       "4    16861\n",
       "5     7309\n",
       "1     6535\n",
       "6     6184\n",
       "3     3952\n",
       "2     3175\n",
       "0      923\n",
       "dtype: int64"
      ]
     },
     "execution_count": 60,
     "metadata": {},
     "output_type": "execute_result"
    }
   ],
   "source": [
    "y_pred = grid_search.best_estimator_.predict(X_test)\n",
    "y_pred\n",
    "print( np.unique(y_pred))\n",
    "pd.DataFrame(y_pred).value_counts()"
   ]
  },
  {
   "cell_type": "code",
   "execution_count": null,
   "metadata": {},
   "outputs": [],
   "source": []
  },
  {
   "cell_type": "code",
   "execution_count": 43,
   "metadata": {},
   "outputs": [],
   "source": []
  },
  {
   "cell_type": "code",
   "execution_count": null,
   "metadata": {},
   "outputs": [],
   "source": []
  },
  {
   "cell_type": "code",
   "execution_count": null,
   "metadata": {},
   "outputs": [],
   "source": []
  },
  {
   "cell_type": "code",
   "execution_count": null,
   "metadata": {},
   "outputs": [],
   "source": [
    "X_train = preprocessor.fit_transform(X_train)"
   ]
  },
  {
   "cell_type": "markdown",
   "metadata": {},
   "source": [
    "## Random Forest"
   ]
  },
  {
   "cell_type": "code",
   "execution_count": 51,
   "metadata": {},
   "outputs": [],
   "source": [
    "# Create the parameter grid \n",
    "param_grid_rf = {\n",
    "    'bootstrap': [True],\n",
    "    'max_depth': [80, 110],\n",
    "    'max_features': [2, 3],\n",
    "    'min_samples_leaf': [3, 5],\n",
    "    'min_samples_split': [8, 10],\n",
    "    'n_estimators': [500, 1000, 1500, 2000],\n",
    "    'criterion': ['entropy'],\n",
    "    'random_state': [101] # for reproductivity\n",
    "}\n",
    "# Create a based model\n",
    "clf_rf = RandomForestClassifier(criterion = 'entropy', random_state=101)\n",
    "# Instantiate the grid search model\n",
    "grid_search_rf = GridSearchCV(estimator = clf_rf, param_grid = param_grid_rf, \n",
    "                          cv = 3, n_jobs = -1, verbose = 2)"
   ]
  },
  {
   "cell_type": "code",
   "execution_count": null,
   "metadata": {},
   "outputs": [],
   "source": []
  },
  {
   "cell_type": "code",
   "execution_count": 52,
   "metadata": {},
   "outputs": [
    {
     "name": "stdout",
     "output_type": "stream",
     "text": [
      "Fitting 3 folds for each of 64 candidates, totalling 192 fits\n"
     ]
    },
    {
     "name": "stderr",
     "output_type": "stream",
     "text": [
      "[Parallel(n_jobs=-1)]: Using backend LokyBackend with 4 concurrent workers.\n",
      "[Parallel(n_jobs=-1)]: Done  33 tasks      | elapsed: 19.9min\n",
      "[Parallel(n_jobs=-1)]: Done 154 tasks      | elapsed: 102.6min\n",
      "[Parallel(n_jobs=-1)]: Done 192 out of 192 | elapsed: 131.9min finished\n"
     ]
    },
    {
     "data": {
      "text/plain": [
       "{'bootstrap': True,\n",
       " 'criterion': 'entropy',\n",
       " 'max_depth': 80,\n",
       " 'max_features': 2,\n",
       " 'min_samples_leaf': 3,\n",
       " 'min_samples_split': 10,\n",
       " 'n_estimators': 1500,\n",
       " 'random_state': 101}"
      ]
     },
     "execution_count": 52,
     "metadata": {},
     "output_type": "execute_result"
    }
   ],
   "source": [
    "# Fit the grid search to the data\n",
    "grid_search_rf.fit(X_train_prep, y_train)\n",
    "grid_search_rf.best_params_\n"
   ]
  },
  {
   "cell_type": "code",
   "execution_count": 76,
   "metadata": {},
   "outputs": [],
   "source": [
    "col_names = ['hydraulic_drive_off',\n",
    " 'drill_boom_in_anchor_position',\n",
    " 'pvalve_drill_forward',\n",
    " 'hydraulic_pump',\n",
    " 'bolt',\n",
    " 'boom_lift',\n",
    " 'boom_lower',\n",
    " 'boom_forward',\n",
    " 'boom_backward',\n",
    " 'drill_boom_turn_left',\n",
    " 'drill_boom_turn_right',\n",
    " 'drill_boom_turn_forward',\n",
    " 'drill_boom_turn_backward',\n",
    " 'beam_right',\n",
    " 'beam_left',\n",
    " 'anchor', 'hydraulic_pump_na', 'engine_speed']"
   ]
  },
  {
   "cell_type": "code",
   "execution_count": 77,
   "metadata": {},
   "outputs": [
    {
     "name": "stderr",
     "output_type": "stream",
     "text": [
      "No handles with labels found to put in legend.\n"
     ]
    },
    {
     "data": {
      "image/png": "[encoded data removed]",
      "text/plain": [
       "<Figure size 1296x1296 with 1 Axes>"
      ]
     },
     "metadata": {
      "needs_background": "light"
     },
     "output_type": "display_data"
    }
   ],
   "source": [
    "X_train_prep = pd.DataFrame(X_train_prep)\n",
    "X_train_prep.columns = col_names\n",
    "best_grid_rf = grid_search_rf.best_estimator_\n",
    "feature_imp = pd.Series(best_grid_rf.feature_importances_, index=X_train_prep.columns).sort_values(ascending=False)\n",
    "fig = plt.figure(figsize=(18, 18))\n",
    "# Creating a bar plot\n",
    "sns.barplot(x=feature_imp, y=feature_imp.index)\n",
    "# Add labels to the graph\n",
    "plt.xlabel('Feature Importance Score')\n",
    "plt.ylabel('Features')\n",
    "plt.title(\"Features Importance\")\n",
    "plt.legend()\n",
    "plt.show()\n"
   ]
  },
  {
   "cell_type": "code",
   "execution_count": 81,
   "metadata": {},
   "outputs": [
    {
     "name": "stdout",
     "output_type": "stream",
     "text": [
      "Tuned RandomForestClassifier Performance:\n",
      "              precision    recall  f1-score   support\n",
      "\n",
      "           0       1.00      1.00      1.00       923\n",
      "           1       1.00      1.00      1.00      6537\n",
      "           2       1.00      1.00      1.00      3172\n",
      "           3       1.00      1.00      1.00      3812\n",
      "           4       1.00      1.00      1.00     16813\n",
      "           5       1.00      1.00      1.00      7310\n",
      "           6       1.00      1.00      1.00      6372\n",
      "\n",
      "    accuracy                           1.00     44939\n",
      "   macro avg       1.00      1.00      1.00     44939\n",
      "weighted avg       1.00      1.00      1.00     44939\n",
      "\n",
      "Accuracy:0.9994436903357885\n",
      "Confusion Matrix:\n",
      "[[  923     0     0     0     0     0     0]\n",
      " [    0  6536     0     0     0     1     0]\n",
      " [    0     0  3168     0     0     4     0]\n",
      " [    0     0     0  3806     0     0     6]\n",
      " [    0     0     0     0 16813     0     0]\n",
      " [    0     2     0     0     0  7308     0]\n",
      " [    0     0     0    12     0     0  6360]]\n"
     ]
    },
    {
     "data": {
      "image/png": "[encoded data removed]",
      "text/plain": [
       "<Figure size 432x288 with 2 Axes>"
      ]
     },
     "metadata": {
      "needs_background": "light"
     },
     "output_type": "display_data"
    }
   ],
   "source": [
    "# Predicting the Test set results\n",
    "y_pred_rf = best_grid_rf.predict(X_test_prep)\n",
    "# Evaluation\n",
    "evaluate(best_grid_rf, X_test_prep, y_test, tuned='Tuned')"
   ]
  },
  {
   "cell_type": "code",
   "execution_count": 82,
   "metadata": {},
   "outputs": [
    {
     "data": {
      "text/plain": [
       "['Random_Forest.pkl']"
      ]
     },
     "execution_count": 82,
     "metadata": {},
     "output_type": "execute_result"
    }
   ],
   "source": [
    "# We persist the model for future use\n",
    "joblib.dump(best_grid_rf, 'Random_Forest.pkl')"
   ]
  },
  {
   "cell_type": "markdown",
   "metadata": {},
   "source": [
    "## Neural Network"
   ]
  },
  {
   "cell_type": "code",
   "execution_count": 87,
   "metadata": {},
   "outputs": [],
   "source": [
    "# One hot encode y_train\n",
    "oe = OneHotEncoder(categories='auto')\n",
    "oe_y_train = oe.fit_transform(np.array(y_train).reshape(-1,1) ).toarray()\n",
    "\n",
    "# define baseline model\n",
    "def base_model_nn(neurons_1=50, neurons_2=10, optimizer='adam',epochs=10, batch_size=10):\n",
    "    # create model\n",
    "    model = Sequential()\n",
    "    # First hidden Layer\n",
    "    model.add(Dense(neurons_1, input_dim=18, activation='relu'))\n",
    "    # Second hidden Layer\n",
    "    model.add(Dense(neurons_2, input_dim=18, activation='relu'))\n",
    "    # Output Layer\n",
    "    model.add(Dense(7, activation='softmax'))\n",
    "# Compile model\n",
    "    model.compile(loss='categorical_crossentropy', optimizer=optimizer, metrics=['accuracy'])\n",
    "    return model"
   ]
  },
  {
   "cell_type": "code",
   "execution_count": null,
   "metadata": {},
   "outputs": [],
   "source": [
    "# Persist Onehot encoder\n",
    "with open('oe_encoder.pickle', 'wb') as f:\n",
    "    pickle.dump(oe, f)"
   ]
  },
  {
   "cell_type": "code",
   "execution_count": 88,
   "metadata": {},
   "outputs": [],
   "source": [
    "# Create the parameter grid \n",
    "param_grid_nn = {\n",
    "    'batch_size': [10, 60],\n",
    "    'epochs': [10, 75],\n",
    "    'optimizer': ['Adam', 'Adamax'],\n",
    "    'neurons_1': [100, 250],\n",
    "    'neurons_2': [50, 75]\n",
    "}\n",
    "# Create a based model\n",
    "Classifier_base_model_nn = KerasClassifier(build_fn=base_model_nn, epochs=10, batch_size=5, verbose=1)"
   ]
  },
  {
   "cell_type": "code",
   "execution_count": null,
   "metadata": {},
   "outputs": [
    {
     "name": "stdout",
     "output_type": "stream",
     "text": [
      "Fitting 3 folds for each of 32 candidates, totalling 96 fits\n"
     ]
    },
    {
     "name": "stderr",
     "output_type": "stream",
     "text": [
      "[Parallel(n_jobs=-1)]: Using backend LokyBackend with 4 concurrent workers.\n"
     ]
    }
   ],
   "source": [
    "# Instantiate the grid search model\n",
    "grid_search_nn = GridSearchCV(estimator=Classifier_base_model_nn, param_grid=param_grid_nn, \n",
    "                          cv=3, n_jobs=-1, verbose=1)\n",
    "grid_result_nn = grid_search_nn.fit(X_train_prep, oe_y_train)"
   ]
  },
  {
   "cell_type": "code",
   "execution_count": null,
   "metadata": {},
   "outputs": [],
   "source": [
    "# summarize results\n",
    "print(\"Best accuray: {} using {}\".format(grid_result_nn.best_score_, grid_result_nn.best_params_))\n",
    "means = grid_result_nn.cv_results_['mean_test_score']\n",
    "stds = grid_result_nn.cv_results_['std_test_score']\n",
    "params = grid_result_nn.cv_results_['params']\n",
    "for mean, stdev, param in zip(means, stds, params):\n",
    "    print(\"%f (%f) with: %r\" % (mean, stdev, param))"
   ]
  },
  {
   "cell_type": "code",
   "execution_count": null,
   "metadata": {},
   "outputs": [],
   "source": [
    "# Prediction\n",
    "pred_tuned_model_nn = grid_result_nn.best_estimator_.predict(X_test_pred)\n",
    "# One hot encode the prediction\n",
    "pred_tuned_model_nn = oe.fit_transform(np.array(pred_tuned_model_nn).reshape(-1,1) ).toarray()\n",
    "# Decode the prediction\n",
    "pred_tuned_model_nn = oe.inverse_transform(pred_tuned_model_nn)\n",
    "pred_tuned_model_nn = np.concatenate(pred_tuned_model_nn).ravel()\n",
    "\n",
    "# Evaluation\n",
    "evaluate(grid_result_nn.best_estimator_, X_test_pred, y_test, model_type='Tuned Neural Network', oe=oe)"
   ]
  },
  {
   "cell_type": "code",
   "execution_count": null,
   "metadata": {},
   "outputs": [],
   "source": [
    "# We persist the model for future use\n",
    "joblib.dump(grid_result_nn.best_estimator_, 'Neural_Network.pkl')"
   ]
  },
  {
   "cell_type": "code",
   "execution_count": null,
   "metadata": {},
   "outputs": [],
   "source": [
    "grid_result_nn.best_estimator_.save(\"Neural_Network.h5\")"
   ]
  },
  {
   "cell_type": "code",
   "execution_count": null,
   "metadata": {},
   "outputs": [],
   "source": []
  }
 ],
 "metadata": {
  "kernelspec": {
   "display_name": "Python 3",
   "language": "python",
   "name": "python3"
  },
  "language_info": {
   "codemirror_mode": {
    "name": "ipython",
    "version": 3
   },
   "file_extension": ".py",
   "mimetype": "text/x-python",
   "name": "python",
   "nbconvert_exporter": "python",
   "pygments_lexer": "ipython3",
   "version": "3.6.8"
  }
 },
 "nbformat": 4,
 "nbformat_minor": 2
}
